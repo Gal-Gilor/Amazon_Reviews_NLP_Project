{
 "cells": [
  {
   "cell_type": "markdown",
   "metadata": {},
   "source": [
    "# Supervised Models"
   ]
  },
  {
   "cell_type": "code",
   "execution_count": 108,
   "metadata": {},
   "outputs": [
    {
     "name": "stdout",
     "output_type": "stream",
     "text": [
      "The autoreload extension is already loaded. To reload it, use:\n",
      "  %reload_ext autoreload\n"
     ]
    }
   ],
   "source": [
    "import pandas as pd\n",
    "import matplotlib.pyplot as plt\n",
    "%matplotlib inline\n",
    "import numpy as np\n",
    "from sklearn.linear_model import LogisticRegression\n",
    "from sklearn.tree import DecisionTreeClassifier\n",
    "from sklearn.ensemble import BaggingClassifier, RandomForestClassifier\n",
    "from sklearn.metrics import confusion_matrix\n",
    "from sklearn.neighbors import KNeighborsClassifier\n",
    "from sklearn.metrics import accuracy_score\n",
    "from sklearn.dummy import DummyClassifier\n",
    "from sklearn.metrics import confusion_matrix\n",
    "from nltk.stem import WordNetLemmatizer \n",
    "from sklearn.pipeline import make_pipeline\n",
    "from sklearn.preprocessing import Normalizer\n",
    "from sklearn.decomposition import TruncatedSVD\n",
    "from sklearn.naive_bayes import MultinomialNB\n",
    "from collections import Counter\n",
    "import helper_functions as helper\n",
    "import itertools\n",
    "%load_ext autoreload\n",
    "%autoreload 2\n",
    "from sklearn.feature_extraction.text import CountVectorizer, TfidfVectorizer"
   ]
  },
  {
   "cell_type": "code",
   "execution_count": 2,
   "metadata": {},
   "outputs": [],
   "source": [
    "df_engineered = pd.read_csv('df_engineered.csv')"
   ]
  },
  {
   "cell_type": "code",
   "execution_count": 3,
   "metadata": {},
   "outputs": [],
   "source": [
    "df_reviews_final = pd.read_csv('final_df.csv')"
   ]
  },
  {
   "cell_type": "code",
   "execution_count": 4,
   "metadata": {},
   "outputs": [],
   "source": [
    "df_final = pd.concat([df_engineered,df_reviews_final],axis=1)"
   ]
  },
  {
   "cell_type": "code",
   "execution_count": 5,
   "metadata": {},
   "outputs": [],
   "source": [
    "df_final.dropna(inplace=True)"
   ]
  },
  {
   "cell_type": "code",
   "execution_count": 6,
   "metadata": {},
   "outputs": [],
   "source": [
    "df_final= df_final[['reviews','review_length',\n",
    "                    'word_count','exclamation_count','question_count',\n",
    "                   'review_length','overall']]"
   ]
  },
  {
   "cell_type": "code",
   "execution_count": 7,
   "metadata": {},
   "outputs": [],
   "source": [
    "from sklearn.model_selection import train_test_split\n",
    "X = df_final[['reviews','review_length','word_count',\n",
    "              'exclamation_count','question_count',\n",
    "                   'review_length']]\n",
    "y = df_final['overall']\n",
    "X_train, X_test, y_train, y_test = train_test_split(X, y, random_state = 42)"
   ]
  },
  {
   "cell_type": "code",
   "execution_count": 39,
   "metadata": {},
   "outputs": [],
   "source": [
    "X_engineered = X_train[['review_length','word_count',\n",
    "              'exclamation_count','question_count',\n",
    "                   'review_length']]"
   ]
  },
  {
   "cell_type": "code",
   "execution_count": 41,
   "metadata": {},
   "outputs": [],
   "source": [
    "X_test_engineered =X_test[['review_length','word_count',\n",
    "              'exclamation_count','question_count',\n",
    "                   'review_length']]"
   ]
  },
  {
   "cell_type": "markdown",
   "metadata": {},
   "source": [
    "### Vectorize"
   ]
  },
  {
   "cell_type": "code",
   "execution_count": 8,
   "metadata": {},
   "outputs": [],
   "source": [
    "# vectorize the train set\n",
    "tf_idf = TfidfVectorizer(max_df=0.5, max_features=10000,\n",
    "                                  min_df=2, token_pattern = '(?ui)\\\\b\\\\w*[a-z]+\\\\w*\\\\b', analyzer='word')\n",
    "tf_idf_vectors = tf_idf.fit_transform(X_train['reviews'])"
   ]
  },
  {
   "cell_type": "code",
   "execution_count": 9,
   "metadata": {},
   "outputs": [],
   "source": [
    "vector_df = pd.DataFrame(tf_idf_vectors.toarray(), columns=tf_idf.get_feature_names())"
   ]
  },
  {
   "cell_type": "code",
   "execution_count": 10,
   "metadata": {},
   "outputs": [],
   "source": [
    "# vectorize the test set\n",
    "tfidf_test = tf_idf.transform(X_test['reviews'])"
   ]
  },
  {
   "cell_type": "code",
   "execution_count": 11,
   "metadata": {},
   "outputs": [],
   "source": [
    "vector_df_test = pd.DataFrame(tfidf_test.toarray(), columns=tf_idf.get_feature_names())"
   ]
  },
  {
   "cell_type": "markdown",
   "metadata": {},
   "source": [
    "### SVD"
   ]
  },
  {
   "cell_type": "code",
   "execution_count": 12,
   "metadata": {},
   "outputs": [],
   "source": [
    "svd = TruncatedSVD(n_components=100)\n",
    "LSA = svd.fit_transform(tf_idf_vectors)\n",
    "# LSA = Normalizer(copy=False).fit_transform(tf_idf_vectors)"
   ]
  },
  {
   "cell_type": "code",
   "execution_count": 13,
   "metadata": {},
   "outputs": [
    {
     "data": {
      "text/plain": [
       "(376371, 100)"
      ]
     },
     "execution_count": 13,
     "metadata": {},
     "output_type": "execute_result"
    }
   ],
   "source": [
    "LSA.shape"
   ]
  },
  {
   "cell_type": "code",
   "execution_count": 14,
   "metadata": {},
   "outputs": [],
   "source": [
    "df_LSA = pd.DataFrame(LSA)"
   ]
  },
  {
   "cell_type": "code",
   "execution_count": 15,
   "metadata": {
    "scrolled": true
   },
   "outputs": [
    {
     "data": {
      "text/html": [
       "<div>\n",
       "<style scoped>\n",
       "    .dataframe tbody tr th:only-of-type {\n",
       "        vertical-align: middle;\n",
       "    }\n",
       "\n",
       "    .dataframe tbody tr th {\n",
       "        vertical-align: top;\n",
       "    }\n",
       "\n",
       "    .dataframe thead th {\n",
       "        text-align: right;\n",
       "    }\n",
       "</style>\n",
       "<table border=\"1\" class=\"dataframe\">\n",
       "  <thead>\n",
       "    <tr style=\"text-align: right;\">\n",
       "      <th></th>\n",
       "      <th>0</th>\n",
       "      <th>1</th>\n",
       "      <th>2</th>\n",
       "      <th>3</th>\n",
       "      <th>4</th>\n",
       "      <th>5</th>\n",
       "      <th>6</th>\n",
       "      <th>7</th>\n",
       "      <th>8</th>\n",
       "      <th>9</th>\n",
       "      <th>...</th>\n",
       "      <th>90</th>\n",
       "      <th>91</th>\n",
       "      <th>92</th>\n",
       "      <th>93</th>\n",
       "      <th>94</th>\n",
       "      <th>95</th>\n",
       "      <th>96</th>\n",
       "      <th>97</th>\n",
       "      <th>98</th>\n",
       "      <th>99</th>\n",
       "    </tr>\n",
       "  </thead>\n",
       "  <tbody>\n",
       "    <tr>\n",
       "      <th>0</th>\n",
       "      <td>0.198772</td>\n",
       "      <td>-0.126566</td>\n",
       "      <td>-0.061223</td>\n",
       "      <td>-0.003002</td>\n",
       "      <td>0.000835</td>\n",
       "      <td>0.077773</td>\n",
       "      <td>0.034124</td>\n",
       "      <td>0.025350</td>\n",
       "      <td>0.085867</td>\n",
       "      <td>-0.029936</td>\n",
       "      <td>...</td>\n",
       "      <td>0.004637</td>\n",
       "      <td>-0.037785</td>\n",
       "      <td>-0.051390</td>\n",
       "      <td>-0.033095</td>\n",
       "      <td>0.032576</td>\n",
       "      <td>0.026431</td>\n",
       "      <td>-0.077805</td>\n",
       "      <td>0.006123</td>\n",
       "      <td>-0.006916</td>\n",
       "      <td>-0.020251</td>\n",
       "    </tr>\n",
       "    <tr>\n",
       "      <th>1</th>\n",
       "      <td>0.255003</td>\n",
       "      <td>0.158438</td>\n",
       "      <td>0.000580</td>\n",
       "      <td>0.258137</td>\n",
       "      <td>-0.088168</td>\n",
       "      <td>0.037844</td>\n",
       "      <td>0.013209</td>\n",
       "      <td>-0.108177</td>\n",
       "      <td>-0.051391</td>\n",
       "      <td>0.056710</td>\n",
       "      <td>...</td>\n",
       "      <td>0.037795</td>\n",
       "      <td>0.021415</td>\n",
       "      <td>-0.011698</td>\n",
       "      <td>0.005896</td>\n",
       "      <td>0.064601</td>\n",
       "      <td>-0.045872</td>\n",
       "      <td>-0.016044</td>\n",
       "      <td>-0.077727</td>\n",
       "      <td>0.014430</td>\n",
       "      <td>-0.046670</td>\n",
       "    </tr>\n",
       "    <tr>\n",
       "      <th>2</th>\n",
       "      <td>0.257455</td>\n",
       "      <td>-0.049084</td>\n",
       "      <td>-0.030722</td>\n",
       "      <td>0.081988</td>\n",
       "      <td>0.096445</td>\n",
       "      <td>0.044420</td>\n",
       "      <td>0.142389</td>\n",
       "      <td>-0.012989</td>\n",
       "      <td>-0.004732</td>\n",
       "      <td>0.062284</td>\n",
       "      <td>...</td>\n",
       "      <td>0.062271</td>\n",
       "      <td>-0.062696</td>\n",
       "      <td>0.021514</td>\n",
       "      <td>0.008867</td>\n",
       "      <td>-0.017872</td>\n",
       "      <td>-0.043226</td>\n",
       "      <td>-0.008785</td>\n",
       "      <td>-0.000744</td>\n",
       "      <td>0.011045</td>\n",
       "      <td>0.063806</td>\n",
       "    </tr>\n",
       "    <tr>\n",
       "      <th>3</th>\n",
       "      <td>0.121701</td>\n",
       "      <td>0.075676</td>\n",
       "      <td>0.016727</td>\n",
       "      <td>0.130580</td>\n",
       "      <td>-0.042909</td>\n",
       "      <td>0.010857</td>\n",
       "      <td>0.031731</td>\n",
       "      <td>-0.043065</td>\n",
       "      <td>-0.017512</td>\n",
       "      <td>0.012823</td>\n",
       "      <td>...</td>\n",
       "      <td>-0.012229</td>\n",
       "      <td>-0.001779</td>\n",
       "      <td>0.000691</td>\n",
       "      <td>-0.005258</td>\n",
       "      <td>0.008415</td>\n",
       "      <td>0.005449</td>\n",
       "      <td>0.002983</td>\n",
       "      <td>-0.019441</td>\n",
       "      <td>-0.006116</td>\n",
       "      <td>0.000818</td>\n",
       "    </tr>\n",
       "    <tr>\n",
       "      <th>4</th>\n",
       "      <td>0.153705</td>\n",
       "      <td>-0.066845</td>\n",
       "      <td>-0.059714</td>\n",
       "      <td>-0.028851</td>\n",
       "      <td>-0.035268</td>\n",
       "      <td>0.029243</td>\n",
       "      <td>-0.079752</td>\n",
       "      <td>-0.055866</td>\n",
       "      <td>0.037029</td>\n",
       "      <td>0.012878</td>\n",
       "      <td>...</td>\n",
       "      <td>0.035181</td>\n",
       "      <td>0.073349</td>\n",
       "      <td>0.015185</td>\n",
       "      <td>-0.094241</td>\n",
       "      <td>-0.080139</td>\n",
       "      <td>-0.029463</td>\n",
       "      <td>-0.034944</td>\n",
       "      <td>0.017794</td>\n",
       "      <td>-0.040896</td>\n",
       "      <td>-0.000331</td>\n",
       "    </tr>\n",
       "  </tbody>\n",
       "</table>\n",
       "<p>5 rows × 100 columns</p>\n",
       "</div>"
      ],
      "text/plain": [
       "         0         1         2         3         4         5         6   \\\n",
       "0  0.198772 -0.126566 -0.061223 -0.003002  0.000835  0.077773  0.034124   \n",
       "1  0.255003  0.158438  0.000580  0.258137 -0.088168  0.037844  0.013209   \n",
       "2  0.257455 -0.049084 -0.030722  0.081988  0.096445  0.044420  0.142389   \n",
       "3  0.121701  0.075676  0.016727  0.130580 -0.042909  0.010857  0.031731   \n",
       "4  0.153705 -0.066845 -0.059714 -0.028851 -0.035268  0.029243 -0.079752   \n",
       "\n",
       "         7         8         9   ...        90        91        92        93  \\\n",
       "0  0.025350  0.085867 -0.029936  ...  0.004637 -0.037785 -0.051390 -0.033095   \n",
       "1 -0.108177 -0.051391  0.056710  ...  0.037795  0.021415 -0.011698  0.005896   \n",
       "2 -0.012989 -0.004732  0.062284  ...  0.062271 -0.062696  0.021514  0.008867   \n",
       "3 -0.043065 -0.017512  0.012823  ... -0.012229 -0.001779  0.000691 -0.005258   \n",
       "4 -0.055866  0.037029  0.012878  ...  0.035181  0.073349  0.015185 -0.094241   \n",
       "\n",
       "         94        95        96        97        98        99  \n",
       "0  0.032576  0.026431 -0.077805  0.006123 -0.006916 -0.020251  \n",
       "1  0.064601 -0.045872 -0.016044 -0.077727  0.014430 -0.046670  \n",
       "2 -0.017872 -0.043226 -0.008785 -0.000744  0.011045  0.063806  \n",
       "3  0.008415  0.005449  0.002983 -0.019441 -0.006116  0.000818  \n",
       "4 -0.080139 -0.029463 -0.034944  0.017794 -0.040896 -0.000331  \n",
       "\n",
       "[5 rows x 100 columns]"
      ]
     },
     "execution_count": 15,
     "metadata": {},
     "output_type": "execute_result"
    }
   ],
   "source": [
    "df_LSA.head()"
   ]
  },
  {
   "cell_type": "code",
   "execution_count": 16,
   "metadata": {
    "scrolled": false
   },
   "outputs": [
    {
     "data": {
      "text/plain": [
       "0.19703414690422402"
      ]
     },
     "execution_count": 16,
     "metadata": {},
     "output_type": "execute_result"
    }
   ],
   "source": [
    "svd.explained_variance_ratio_.sum()"
   ]
  },
  {
   "cell_type": "code",
   "execution_count": 17,
   "metadata": {},
   "outputs": [],
   "source": [
    "# transform test set too\n",
    "LSA_test = svd.transform(tfidf_test)"
   ]
  },
  {
   "cell_type": "code",
   "execution_count": 18,
   "metadata": {
    "scrolled": true
   },
   "outputs": [
    {
     "data": {
      "text/plain": [
       "(125457, 100)"
      ]
     },
     "execution_count": 18,
     "metadata": {},
     "output_type": "execute_result"
    }
   ],
   "source": [
    "LSA_test.shape"
   ]
  },
  {
   "cell_type": "code",
   "execution_count": 19,
   "metadata": {},
   "outputs": [],
   "source": [
    "LSA_test_df = pd.DataFrame(LSA_test)"
   ]
  },
  {
   "cell_type": "code",
   "execution_count": 20,
   "metadata": {},
   "outputs": [],
   "source": [
    "## concatenate vectorized dataframe to OG dataframe"
   ]
  },
  {
   "cell_type": "code",
   "execution_count": 55,
   "metadata": {},
   "outputs": [],
   "source": [
    "X_engineered.reset_index(inplace=True)"
   ]
  },
  {
   "cell_type": "code",
   "execution_count": 57,
   "metadata": {},
   "outputs": [],
   "source": [
    "df_train = pd.concat([df_LSA,X_engineered], axis=1, ignore_index=True)"
   ]
  },
  {
   "cell_type": "code",
   "execution_count": 22,
   "metadata": {},
   "outputs": [],
   "source": [
    "## concatenate vectorized TEST dataframe to OG TEST dataframe with engineered feats."
   ]
  },
  {
   "cell_type": "code",
   "execution_count": 61,
   "metadata": {},
   "outputs": [],
   "source": [
    "X_test_engineered.reset_index(inplace=True)"
   ]
  },
  {
   "cell_type": "code",
   "execution_count": 62,
   "metadata": {},
   "outputs": [],
   "source": [
    "df_test = pd.concat([LSA_test_df,X_test_engineered], axis=1)"
   ]
  },
  {
   "cell_type": "code",
   "execution_count": 63,
   "metadata": {},
   "outputs": [
    {
     "data": {
      "text/plain": [
       "(125457, 120)"
      ]
     },
     "execution_count": 63,
     "metadata": {},
     "output_type": "execute_result"
    }
   ],
   "source": [
    "df_test.shape"
   ]
  },
  {
   "cell_type": "markdown",
   "metadata": {},
   "source": [
    "## Modeling"
   ]
  },
  {
   "cell_type": "markdown",
   "metadata": {},
   "source": [
    "### Dummy classifier"
   ]
  },
  {
   "cell_type": "code",
   "execution_count": null,
   "metadata": {},
   "outputs": [],
   "source": [
    "# dummy without SVD\n",
    "dum_clf = DummyClassifier()\n",
    "dum_model = dum_clf.fit(vector_df,y_train)\n",
    "y_hat_test = dum_model.predict(vector_df_test)"
   ]
  },
  {
   "cell_type": "code",
   "execution_count": null,
   "metadata": {},
   "outputs": [],
   "source": [
    "print(accuracy_score(y_hat_test,y_test))"
   ]
  },
  {
   "cell_type": "code",
   "execution_count": null,
   "metadata": {},
   "outputs": [],
   "source": [
    "## dummy with LSA/SVD\n",
    "dum_clf_LSA = DummyClassifier()\n",
    "dum_model_LSA = dum_clf_LSA.fit(df_LSA,y_train)\n",
    "y_hat_test_LSA = dum_model_LSA.predict(LSA_test_df)"
   ]
  },
  {
   "cell_type": "code",
   "execution_count": null,
   "metadata": {},
   "outputs": [],
   "source": [
    "print(accuracy_score(y_hat_test_LSA,y_test))"
   ]
  },
  {
   "cell_type": "code",
   "execution_count": null,
   "metadata": {},
   "outputs": [],
   "source": [
    "## dummy with LSA/SVD AND engineered feats."
   ]
  },
  {
   "cell_type": "code",
   "execution_count": 30,
   "metadata": {},
   "outputs": [
    {
     "data": {
      "text/plain": [
       "(470620, 119)"
      ]
     },
     "execution_count": 30,
     "metadata": {},
     "output_type": "execute_result"
    }
   ],
   "source": [
    "df_train.shape"
   ]
  },
  {
   "cell_type": "code",
   "execution_count": 31,
   "metadata": {},
   "outputs": [
    {
     "data": {
      "text/plain": [
       "(376371,)"
      ]
     },
     "execution_count": 31,
     "metadata": {},
     "output_type": "execute_result"
    }
   ],
   "source": [
    "y_train.shape"
   ]
  },
  {
   "cell_type": "code",
   "execution_count": 64,
   "metadata": {},
   "outputs": [],
   "source": [
    "dum_clf_eng = DummyClassifier()\n",
    "dum_model_eng = dum_clf_eng.fit(df_train,y_train)\n",
    "y_hat_test_eng = dum_model_eng.predict(df_test)"
   ]
  },
  {
   "cell_type": "code",
   "execution_count": 65,
   "metadata": {},
   "outputs": [
    {
     "name": "stdout",
     "output_type": "stream",
     "text": [
      "0.20225256462373561\n"
     ]
    }
   ],
   "source": [
    "print(accuracy_score(y_hat_test_eng,y_test))"
   ]
  },
  {
   "cell_type": "markdown",
   "metadata": {},
   "source": [
    "### Decision Tree"
   ]
  },
  {
   "cell_type": "code",
   "execution_count": null,
   "metadata": {},
   "outputs": [],
   "source": [
    "## non-SVD DT\n",
    "dt_clf = DecisionTreeClassifier()\n",
    "dt_clf_model_noSVD = dt_clf.fit(vector_df,y_train)\n",
    "y_hat_test_DT = dum_model.predict(vector_df_test)"
   ]
  },
  {
   "cell_type": "code",
   "execution_count": null,
   "metadata": {},
   "outputs": [],
   "source": [
    "print(accuracy_score(y_hat_test_DT,y_test))"
   ]
  },
  {
   "cell_type": "code",
   "execution_count": null,
   "metadata": {},
   "outputs": [],
   "source": [
    "## SVD DT\n",
    "dt_clf = DecisionTreeClassifier()"
   ]
  },
  {
   "cell_type": "code",
   "execution_count": null,
   "metadata": {},
   "outputs": [],
   "source": [
    "dt_clf_model = dt_clf.fit(df_LSA,y_train)"
   ]
  },
  {
   "cell_type": "code",
   "execution_count": null,
   "metadata": {},
   "outputs": [],
   "source": [
    "y_hat_DT = dt_clf_model.predict(LSA_test_df)"
   ]
  },
  {
   "cell_type": "code",
   "execution_count": null,
   "metadata": {},
   "outputs": [],
   "source": [
    "print(accuracy_score(y_hat_DT,y_test))"
   ]
  },
  {
   "cell_type": "code",
   "execution_count": null,
   "metadata": {},
   "outputs": [],
   "source": [
    "## SVD + engineered DT"
   ]
  },
  {
   "cell_type": "code",
   "execution_count": 67,
   "metadata": {},
   "outputs": [],
   "source": [
    "dt_clf = DecisionTreeClassifier()\n",
    "dt_clf_model_eng = dt_clf.fit(df_train,y_train)\n",
    "y_hat_test_eng = dt_clf_model_eng.predict(df_test)"
   ]
  },
  {
   "cell_type": "code",
   "execution_count": 68,
   "metadata": {},
   "outputs": [
    {
     "name": "stdout",
     "output_type": "stream",
     "text": [
      "0.28677554859433907\n"
     ]
    }
   ],
   "source": [
    "print(accuracy_score(y_hat_test_eng,y_test))"
   ]
  },
  {
   "cell_type": "markdown",
   "metadata": {},
   "source": [
    "### Naive Bayes"
   ]
  },
  {
   "cell_type": "code",
   "execution_count": 69,
   "metadata": {},
   "outputs": [],
   "source": [
    "# NB with tfidf\n",
    "NB = MultinomialNB()\n",
    "NB_model = NB.fit(vector_df, y_train)"
   ]
  },
  {
   "cell_type": "code",
   "execution_count": 70,
   "metadata": {},
   "outputs": [],
   "source": [
    "y_hat_test_NB = NB.predict(vector_df_test)"
   ]
  },
  {
   "cell_type": "code",
   "execution_count": 71,
   "metadata": {},
   "outputs": [
    {
     "name": "stdout",
     "output_type": "stream",
     "text": [
      "0.4678336003570945\n"
     ]
    }
   ],
   "source": [
    "print(accuracy_score(y_hat_test_NB,y_test))"
   ]
  },
  {
   "cell_type": "code",
   "execution_count": 112,
   "metadata": {},
   "outputs": [
    {
     "name": "stdout",
     "output_type": "stream",
     "text": [
      "Normalized confusion matrix\n",
      "[[0.73329153 0.04861316 0.14469608 0.01855267 0.05484656]\n",
      " [0.41772944 0.07695269 0.35497377 0.06448819 0.08585591]\n",
      " [0.21873402 0.03103977 0.4186632  0.18265864 0.14890436]\n",
      " [0.10876499 0.01106221 0.20812306 0.33949695 0.33255279]\n",
      " [0.09149682 0.00496749 0.07867631 0.16148002 0.66337936]]\n"
     ]
    },
    {
     "data": {
      "image/png": "[encoded data removed]",
      "text/plain": [
       "<Figure size 432x288 with 2 Axes>"
      ]
     },
     "metadata": {
      "needs_background": "light"
     },
     "output_type": "display_data"
    }
   ],
   "source": [
    "cnf_matrix = confusion_matrix(y_test, y_hat_test_NB)\n",
    "\n",
    "plt.figure()\n",
    "helper.plot_confusion_matrix(cnf_matrix, classes=[1,2,3,4,5],normalize=True,\n",
    "                      title='Naive Bayes Confusion Matrix')\n",
    "plt.show()"
   ]
  },
  {
   "cell_type": "code",
   "execution_count": 113,
   "metadata": {
    "collapsed": true
   },
   "outputs": [
    {
     "name": "stderr",
     "output_type": "stream",
     "text": [
      "[autoreload of helper_functions failed: Traceback (most recent call last):\n",
      "  File \"/Users/Kristinabarounis/anaconda3/lib/python3.7/site-packages/IPython/extensions/autoreload.py\", line 244, in check\n",
      "    superreload(m, reload, self.old_objects)\n",
      "  File \"/Users/Kristinabarounis/anaconda3/lib/python3.7/site-packages/IPython/extensions/autoreload.py\", line 378, in superreload\n",
      "    module = reload(module)\n",
      "  File \"/Users/Kristinabarounis/anaconda3/lib/python3.7/imp.py\", line 314, in reload\n",
      "    return importlib.reload(module)\n",
      "  File \"/Users/Kristinabarounis/anaconda3/lib/python3.7/importlib/__init__.py\", line 169, in reload\n",
      "    _bootstrap._exec(spec, module)\n",
      "  File \"<frozen importlib._bootstrap>\", line 630, in _exec\n",
      "  File \"<frozen importlib._bootstrap_external>\", line 728, in exec_module\n",
      "  File \"<frozen importlib._bootstrap>\", line 219, in _call_with_frames_removed\n",
      "  File \"/Users/Kristinabarounis/Desktop/Data_Science_Projects/Amazon_Reviews_NLP_Project/helper_functions.py\", line 79, in <module>\n",
      "    cmap=plt.cm.Blues):\n",
      "NameError: name 'plt' is not defined\n",
      "]\n",
      "[autoreload of helper_functions failed: Traceback (most recent call last):\n",
      "  File \"/Users/Kristinabarounis/anaconda3/lib/python3.7/site-packages/IPython/extensions/autoreload.py\", line 244, in check\n",
      "    superreload(m, reload, self.old_objects)\n",
      "  File \"/Users/Kristinabarounis/anaconda3/lib/python3.7/site-packages/IPython/extensions/autoreload.py\", line 378, in superreload\n",
      "    module = reload(module)\n",
      "  File \"/Users/Kristinabarounis/anaconda3/lib/python3.7/imp.py\", line 314, in reload\n",
      "    return importlib.reload(module)\n",
      "  File \"/Users/Kristinabarounis/anaconda3/lib/python3.7/importlib/__init__.py\", line 169, in reload\n",
      "    _bootstrap._exec(spec, module)\n",
      "  File \"<frozen importlib._bootstrap>\", line 630, in _exec\n",
      "  File \"<frozen importlib._bootstrap_external>\", line 728, in exec_module\n",
      "  File \"<frozen importlib._bootstrap>\", line 219, in _call_with_frames_removed\n",
      "  File \"/Users/Kristinabarounis/Desktop/Data_Science_Projects/Amazon_Reviews_NLP_Project/helper_functions.py\", line 79, in <module>\n",
      "    cmap=plt.cm.Blues):\n",
      "NameError: name 'plt' is not defined\n",
      "]\n"
     ]
    }
   ],
   "source": [
    "def plot_AUC_ROC(y_score,fpr,tpr):\n",
    "    sns.set_style(\"darkgrid\", {\"axes.facecolor\": \".9\"})\n",
    "    print('AUC: {}'.format(auc(fpr, tpr)))\n",
    "    plt.figure(figsize=(10,8))\n",
    "    lw = 2\n",
    "    plt.plot(fpr, tpr, color='darkorange',\n",
    "         lw=lw, label='ROC curve')\n",
    "    plt.plot([0, 1], [0, 1], color='navy', lw=lw, linestyle='--')\n",
    "    plt.xlim([0.0, 1.0])\n",
    "    plt.ylim([0.0, 1.05])\n",
    "    plt.yticks([i/20.0 for i in range(21)])\n",
    "    plt.xticks([i/20.0 for i in range(21)])\n",
    "    plt.xlabel('False Positive Rate')\n",
    "    plt.ylabel('True Positive Rate')\n",
    "    plt.title('Receiver operating characteristic (ROC) Curve')\n",
    "    plt.legend(loc=\"lower right\")\n",
    "    plt.show()"
   ]
  }
 ],
 "metadata": {
  "kernelspec": {
   "display_name": "Python 3",
   "language": "python",
   "name": "python3"
  },
  "language_info": {
   "codemirror_mode": {
    "name": "ipython",
    "version": 3
   },
   "file_extension": ".py",
   "mimetype": "text/x-python",
   "name": "python",
   "nbconvert_exporter": "python",
   "pygments_lexer": "ipython3",
   "version": "3.7.3"
  }
 },
 "nbformat": 4,
 "nbformat_minor": 2
}
