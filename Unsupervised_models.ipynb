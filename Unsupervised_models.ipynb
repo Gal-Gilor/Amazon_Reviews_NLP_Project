{
 "cells": [
  {
   "cell_type": "markdown",
   "metadata": {},
   "source": [
    "# Topic Modeling"
   ]
  },
  {
   "cell_type": "code",
   "execution_count": 108,
   "metadata": {},
   "outputs": [],
   "source": [
    "import pandas as pd\n",
    "import numpy as np"
   ]
  },
  {
   "cell_type": "code",
   "execution_count": 2,
   "metadata": {},
   "outputs": [],
   "source": [
    "# \n",
    "df = pd.read_csv('final_df.csv')"
   ]
  },
  {
   "cell_type": "code",
   "execution_count": 3,
   "metadata": {},
   "outputs": [],
   "source": [
    "df.isna().any()\n",
    "df.dropna(inplace=True)"
   ]
  },
  {
   "cell_type": "code",
   "execution_count": 4,
   "metadata": {},
   "outputs": [],
   "source": [
    "df['reviews'] = df['reviews'].replace('\\d+?', ' ', regex=True)"
   ]
  },
  {
   "cell_type": "code",
   "execution_count": 6,
   "metadata": {},
   "outputs": [],
   "source": [
    "cleaned_reviews =  df.copy(deep=True)['reviews']"
   ]
  },
  {
   "cell_type": "code",
   "execution_count": 7,
   "metadata": {},
   "outputs": [],
   "source": [
    "from sklearn.decomposition import NMF, LatentDirichletAllocation, TruncatedSVD\n",
    "from sklearn.feature_extraction.text import TfidfVectorizer\n",
    "from sklearn.preprocessing import Normalizer"
   ]
  },
  {
   "cell_type": "markdown",
   "metadata": {},
   "source": [
    "# LSA"
   ]
  },
  {
   "cell_type": "code",
   "execution_count": 111,
   "metadata": {},
   "outputs": [
    {
     "ename": "TypeError",
     "evalue": "__init__() got an unexpected keyword argument 'n_grams'",
     "output_type": "error",
     "traceback": [
      "\u001b[1;31m---------------------------------------------------------------------------\u001b[0m",
      "\u001b[1;31mTypeError\u001b[0m                                 Traceback (most recent call last)",
      "\u001b[1;32m<ipython-input-111-cf4db3fe783c>\u001b[0m in \u001b[0;36m<module>\u001b[1;34m\u001b[0m\n\u001b[0;32m      2\u001b[0m tf_idf_vectorize = TfidfVectorizer(max_df=0.5, max_features=10000,\n\u001b[0;32m      3\u001b[0m                                   \u001b[0mmin_df\u001b[0m\u001b[1;33m=\u001b[0m\u001b[1;36m2\u001b[0m\u001b[1;33m,\u001b[0m \u001b[0mstop_words\u001b[0m\u001b[1;33m=\u001b[0m\u001b[1;34m'english'\u001b[0m\u001b[1;33m,\u001b[0m\u001b[1;33m\u001b[0m\u001b[1;33m\u001b[0m\u001b[0m\n\u001b[1;32m----> 4\u001b[1;33m                                   use_idf=True, n_grams=(1,2))\n\u001b[0m\u001b[0;32m      5\u001b[0m \u001b[1;33m\u001b[0m\u001b[0m\n\u001b[0;32m      6\u001b[0m \u001b[0mtf_idf\u001b[0m \u001b[1;33m=\u001b[0m \u001b[0mtf_idf_vectorize\u001b[0m\u001b[1;33m.\u001b[0m\u001b[0mfit_transform\u001b[0m\u001b[1;33m(\u001b[0m\u001b[0mcleaned_reviews\u001b[0m\u001b[1;33m)\u001b[0m\u001b[1;33m\u001b[0m\u001b[1;33m\u001b[0m\u001b[0m\n",
      "\u001b[1;31mTypeError\u001b[0m: __init__() got an unexpected keyword argument 'n_grams'"
     ]
    }
   ],
   "source": [
    "# vectorize the data and get check what the top words\n",
    "tf_idf_vectorize = TfidfVectorizer(max_df=0.5, max_features=10000,\n",
    "                                  min_df=2, stop_words='english',\n",
    "                                  use_idf=True)\n",
    "\n",
    "tf_idf = tf_idf_vectorize.fit_transform(cleaned_reviews)"
   ]
  },
  {
   "cell_type": "code",
   "execution_count": 10,
   "metadata": {},
   "outputs": [],
   "source": [
    "# recommended components for LSA\n",
    "SVD = TruncatedSVD(n_components=100, random_state=1234)\n",
    "\n",
    "SVD_matrix = SVD.fit_transform(tf_idf)\n",
    "\n",
    "LSA = Normalizer(copy=False).fit_transform(SVD_matrix)"
   ]
  },
  {
   "cell_type": "code",
   "execution_count": 13,
   "metadata": {},
   "outputs": [],
   "source": [
    "# 100 rows - these are the features created after applying SVD which reduces the dimensionality of our feature space\n",
    "# but maintains\n",
    "LSA_df = pd.DataFrame(SVD.components_, columns=tf_idf_vectorize.get_feature_names())"
   ]
  },
  {
   "cell_type": "code",
   "execution_count": null,
   "metadata": {},
   "outputs": [],
   "source": [
    "for compNum in range(0, 10):\n",
    "\n",
    "    comp = SVD.components_[compNum]\n",
    "    \n",
    "    # Sort the weights in the first component, and get the indeces\n",
    "    indeces = numpy.argsort(comp).tolist()\n",
    "    \n",
    "    # Reverse the indeces, so we have the largest weights first.\n",
    "    indeces.reverse()\n",
    "    \n",
    "    # Grab the top 10 terms which have the highest weight in this component.        \n",
    "    terms = [features[weightIndex] for weightIndex in indeces[0:10]]    \n",
    "    weights = [comp[weightIndex] for weightIndex in indeces[0:10]]    \n",
    "   \n",
    "    # Display these terms and their weights as a horizontal bar graph.    \n",
    "    # The horizontal bar graph displays the first item on the bottom; reverse\n",
    "    # the order of the terms so the biggest one is on top.\n",
    "    terms.reverse()\n",
    "    weights.reverse()\n",
    "    positions = arange(10) + .5    # the bar centers on the y axis\n",
    "    \n",
    "    figure(compNum)\n",
    "    barh(positions, weights, align='center')\n",
    "    yticks(positions, terms)\n",
    "    xlabel('Weight')\n",
    "    title('Strongest terms for component %d' % (compNum))\n",
    "    grid(True)\n",
    "    show()"
   ]
  },
  {
   "cell_type": "markdown",
   "metadata": {},
   "source": [
    "# LDA"
   ]
  },
  {
   "cell_type": "code",
   "execution_count": 15,
   "metadata": {},
   "outputs": [
    {
     "name": "stdout",
     "output_type": "stream",
     "text": [
      "iteration: 1 of max_iter: 10\n",
      "iteration: 2 of max_iter: 10\n",
      "iteration: 3 of max_iter: 10\n",
      "iteration: 4 of max_iter: 10\n",
      "iteration: 5 of max_iter: 10\n",
      "iteration: 6 of max_iter: 10\n",
      "iteration: 7 of max_iter: 10\n",
      "iteration: 8 of max_iter: 10\n",
      "iteration: 9 of max_iter: 10\n",
      "iteration: 10 of max_iter: 10\n"
     ]
    }
   ],
   "source": [
    "features = tf_idf_vectorize.get_feature_names()\n",
    "LDA = LatentDirichletAllocation(n_components=10, random_state=1234,\n",
    "                                n_jobs=-1, verbose=1).fit(tf_idf)"
   ]
  },
  {
   "cell_type": "code",
   "execution_count": 109,
   "metadata": {},
   "outputs": [
    {
     "name": "stdout",
     "output_type": "stream",
     "text": [
      "Topic 1 most important words: ['internet' 'signal' 'connection' 'support' 'time' 'unit' 'network'\n",
      " 'device' 'work' 'wireless' 'router']\n",
      "Topic 2 most important words: ['money' 'worked' 'bought' 'time' 'buy' 'item' 'month' 'amazon' 'work'\n",
      " 'battery' 'product']\n",
      "Topic 3 most important words: ['board' 'ram' 'motherboard' 'cpu' 'drive' 'power' 'laptop' 'cooler'\n",
      " 'card' 'case' 'fan']\n",
      "Topic 4 most important words: ['use' 'tablet' 'key' 'like' 'fit' 'screen' 'ipad' 'cover' 'mouse'\n",
      " 'keyboard' 'case']\n",
      "Topic 5 most important words: ['use' 'power' 'mount' 'usb' 'cord' 'plug' 'charger' 'work' 'charge'\n",
      " 'battery' 'cable']\n",
      "Topic 6 most important words: ['noise' 'pair' 'volume' 'headset' 'good' 'quality' 'bass' 'speaker' 'ear'\n",
      " 'headphone' 'sound']\n",
      "Topic 7 most important words: ['device' 'unit' 'play' 'mp' 'use' 'work' 'sound' 'music' 'player' 'ipod'\n",
      " 'radio']\n",
      "Topic 8 most important words: ['picture' 'channel' 'player' 'dvd' 'antenna' 'work' 'monitor' 'remote'\n",
      " 'hdmi' 'cable' 'tv']\n",
      "Topic 9 most important words: ['driver' 'hard' 'software' 'file' 'gb' 'computer' 'window' 'work' 'usb'\n",
      " 'card' 'drive']\n",
      "Topic 10 most important words: ['video' 'great' 'photo' 'use' 'good' 'light' 'flash' 'picture' 'canon'\n",
      " 'lens' 'camera']\n"
     ]
    }
   ],
   "source": [
    "def print_topics(model, features, n):\n",
    "    \n",
    "    if type(features) == list:\n",
    "        features = np.array(features)\n",
    "    components = model.components_\n",
    "    \n",
    "    top_n = [features[component.argsort()][-n-1:] for component in components]\n",
    "    \n",
    "    for i in range(len(top_n)):\n",
    "        print(f\"Topic {i+1} most important words: {top_n[i]}\")\n",
    "    return top_n\n",
    "\n",
    "a = print_topics(LDA, features , 10)"
   ]
  },
  {
   "cell_type": "code",
   "execution_count": 116,
   "metadata": {},
   "outputs": [
    {
     "name": "stdout",
     "output_type": "stream",
     "text": [
      "iteration: 1 of max_iter: 10\n",
      "iteration: 2 of max_iter: 10\n",
      "iteration: 3 of max_iter: 10\n",
      "iteration: 4 of max_iter: 10\n",
      "iteration: 5 of max_iter: 10\n",
      "iteration: 6 of max_iter: 10\n",
      "iteration: 7 of max_iter: 10\n",
      "iteration: 8 of max_iter: 10\n",
      "iteration: 9 of max_iter: 10\n",
      "iteration: 10 of max_iter: 10\n",
      "Topic 1 most important words: ['good' 'nice' 'small' 'little' 'strap' 'like' 'laptop' 'fan' 'fit' 'bag'\n",
      " 'case']\n",
      "Topic 2 most important words: ['internet' 'support' 'wifi' 'modem' 'device' 'signal' 'connection' 'work'\n",
      " 'network' 'wireless' 'router']\n",
      "Topic 3 most important words: ['software' 'memory' 'file' 'hard drive' 'work' 'window' 'gb' 'computer'\n",
      " 'usb' 'card' 'drive']\n",
      "Topic 4 most important words: ['use' 'like' 'quality' 'headset' 'key' 'good' 'keyboard' 'ear' 'sound'\n",
      " 'headphone' 'mouse']\n",
      "Topic 5 most important words: ['audio' 'player' 'cable' 'hdmi' 'good' 'monitor' 'quality' 'great' 'tv'\n",
      " 'sound' 'speaker']\n",
      "Topic 6 most important words: ['gps' 'channel' 'time' 'antenna' 'use' 'button' 'work' 'device' 'unit'\n",
      " 'tv' 'remote']\n",
      "Topic 7 most important words: ['quality' 'flash' 'light' 'use' 'good' 'protector' 'picture' 'canon'\n",
      " 'screen' 'lens' 'camera']\n",
      "Topic 8 most important words: ['fit' 'great' 'work' 'kindle' 'charger' 'tablet' 'cover' 'charge' 'ipad'\n",
      " 'battery' 'case']\n",
      "Topic 9 most important words: ['return' 'time' 'money' 'buy' 'item' 'worked' 'month' 'amazon' 'work'\n",
      " 'product' 'cable']\n",
      "Topic 10 most important words: ['cord' 'good' 'use' 'player' 'cable' 'car' 'wire' 'work' 'radio' 'mount'\n",
      " 'ipod']\n"
     ]
    },
    {
     "data": {
      "text/plain": [
       "[array(['good', 'nice', 'small', 'little', 'strap', 'like', 'laptop',\n",
       "        'fan', 'fit', 'bag', 'case'], dtype='<U25'),\n",
       " array(['internet', 'support', 'wifi', 'modem', 'device', 'signal',\n",
       "        'connection', 'work', 'network', 'wireless', 'router'],\n",
       "       dtype='<U25'),\n",
       " array(['software', 'memory', 'file', 'hard drive', 'work', 'window', 'gb',\n",
       "        'computer', 'usb', 'card', 'drive'], dtype='<U25'),\n",
       " array(['use', 'like', 'quality', 'headset', 'key', 'good', 'keyboard',\n",
       "        'ear', 'sound', 'headphone', 'mouse'], dtype='<U25'),\n",
       " array(['audio', 'player', 'cable', 'hdmi', 'good', 'monitor', 'quality',\n",
       "        'great', 'tv', 'sound', 'speaker'], dtype='<U25'),\n",
       " array(['gps', 'channel', 'time', 'antenna', 'use', 'button', 'work',\n",
       "        'device', 'unit', 'tv', 'remote'], dtype='<U25'),\n",
       " array(['quality', 'flash', 'light', 'use', 'good', 'protector', 'picture',\n",
       "        'canon', 'screen', 'lens', 'camera'], dtype='<U25'),\n",
       " array(['fit', 'great', 'work', 'kindle', 'charger', 'tablet', 'cover',\n",
       "        'charge', 'ipad', 'battery', 'case'], dtype='<U25'),\n",
       " array(['return', 'time', 'money', 'buy', 'item', 'worked', 'month',\n",
       "        'amazon', 'work', 'product', 'cable'], dtype='<U25'),\n",
       " array(['cord', 'good', 'use', 'player', 'cable', 'car', 'wire', 'work',\n",
       "        'radio', 'mount', 'ipod'], dtype='<U25')]"
      ]
     },
     "execution_count": 116,
     "metadata": {},
     "output_type": "execute_result"
    }
   ],
   "source": [
    "tf_idf_n2_vec = TfidfVectorizer(max_df=0.5, max_features=8000,\n",
    "                                min_df=2, stop_words='english',\n",
    "                                use_idf=True, ngram_range=(1, 2))\n",
    "\n",
    "tf_idf_n2 = tf_idf_n2_vec.fit_transform(cleaned_reviews)\n",
    "\n",
    "features_n2 = tf_idf_n2_vec.get_feature_names()\n",
    "\n",
    "LDA_n2 = LatentDirichletAllocation(n_components=10, random_state=1234,\n",
    "                                   n_jobs=-1, verbose=1).fit(tf_idf_n2)\n",
    "\n",
    "print_topics(LDA_n2, features_n2 , 10)"
   ]
  },
  {
   "cell_type": "markdown",
   "metadata": {},
   "source": [
    "# NMF"
   ]
  },
  {
   "cell_type": "code",
   "execution_count": 117,
   "metadata": {},
   "outputs": [
    {
     "name": "stdout",
     "output_type": "stream",
     "text": [
      "Topic 1 most important words: ['set' 'use' 'player' 'problem' 'remote' 'screen' 'time' 'router' 'device'\n",
      " 'unit' 'tv']\n",
      "Topic 2 most important words: ['zoom' 'bag' 'video' 'photo' 'image' 'quality' 'mm' 'canon' 'picture'\n",
      " 'lens' 'camera']\n",
      "Topic 3 most important words: ['better' 'price' 'volume' 'music' 'bass' 'good' 'quality' 'ear' 'speaker'\n",
      " 'headphone' 'sound']\n",
      "Topic 4 most important words: ['stand' 'hold' 'nice' 'like' 'screen' 'tablet' 'kindle' 'fit' 'cover'\n",
      " 'ipad' 'case']\n",
      "Topic 5 most important words: ['time' 'phone' 'power' 'original' 'hour' 'charged' 'charging' 'life'\n",
      " 'charger' 'charge' 'battery']\n",
      "Topic 6 most important words: ['connection' 'audio' 'end' 'port' 'plug' 'quality' 'tv' 'connector' 'usb'\n",
      " 'hdmi' 'cable']\n",
      "Topic 7 most important words: ['port' 'seagate' 'backup' 'data' 'gb' 'external' 'file' 'computer' 'hard'\n",
      " 'usb' 'drive']\n",
      "Topic 8 most important words: ['wireless' 'laptop' 'like' 'feel' 'usb' 'use' 'button' 'logitech' 'key'\n",
      " 'keyboard' 'mouse']\n",
      "Topic 9 most important words: ['class' 'computer' 'speed' 'usb' 'video' 'sandisk' 'reader' 'gb' 'memory'\n",
      " 'sd' 'card']\n",
      "Topic 10 most important words: ['worked' 'recommend' 'bought' 'item' 'buy' 'fine' 'good' 'price'\n",
      " 'product' 'great' 'work']\n"
     ]
    },
    {
     "data": {
      "text/plain": [
       "[array(['set', 'use', 'player', 'problem', 'remote', 'screen', 'time',\n",
       "        'router', 'device', 'unit', 'tv'], dtype='<U17'),\n",
       " array(['zoom', 'bag', 'video', 'photo', 'image', 'quality', 'mm', 'canon',\n",
       "        'picture', 'lens', 'camera'], dtype='<U17'),\n",
       " array(['better', 'price', 'volume', 'music', 'bass', 'good', 'quality',\n",
       "        'ear', 'speaker', 'headphone', 'sound'], dtype='<U17'),\n",
       " array(['stand', 'hold', 'nice', 'like', 'screen', 'tablet', 'kindle',\n",
       "        'fit', 'cover', 'ipad', 'case'], dtype='<U17'),\n",
       " array(['time', 'phone', 'power', 'original', 'hour', 'charged',\n",
       "        'charging', 'life', 'charger', 'charge', 'battery'], dtype='<U17'),\n",
       " array(['connection', 'audio', 'end', 'port', 'plug', 'quality', 'tv',\n",
       "        'connector', 'usb', 'hdmi', 'cable'], dtype='<U17'),\n",
       " array(['port', 'seagate', 'backup', 'data', 'gb', 'external', 'file',\n",
       "        'computer', 'hard', 'usb', 'drive'], dtype='<U17'),\n",
       " array(['wireless', 'laptop', 'like', 'feel', 'usb', 'use', 'button',\n",
       "        'logitech', 'key', 'keyboard', 'mouse'], dtype='<U17'),\n",
       " array(['class', 'computer', 'speed', 'usb', 'video', 'sandisk', 'reader',\n",
       "        'gb', 'memory', 'sd', 'card'], dtype='<U17'),\n",
       " array(['worked', 'recommend', 'bought', 'item', 'buy', 'fine', 'good',\n",
       "        'price', 'product', 'great', 'work'], dtype='<U17')]"
      ]
     },
     "execution_count": 117,
     "metadata": {},
     "output_type": "execute_result"
    }
   ],
   "source": [
    "# no grams\n",
    "nmf = NMF(n_components=10, random_state=123, alpha=.1, l1_ratio=.5).fit(tf_idf)\n",
    "print_topics(nmf, features , 10)"
   ]
  },
  {
   "cell_type": "code",
   "execution_count": 118,
   "metadata": {},
   "outputs": [
    {
     "name": "stdout",
     "output_type": "stream",
     "text": [
      "Topic 1 most important words: ['remote' 'great' 'problem' 'use' 'router' 'time' 'device' 'unit' 'tv'\n",
      " 'product' 'work']\n",
      "Topic 2 most important words: ['shoot' 'zoom' 'shot' 'image' 'quality' 'flash' 'photo' 'canon' 'video'\n",
      " 'picture' 'camera']\n",
      "Topic 3 most important words: ['price' 'volume' 'music' 'sound quality' 'bass' 'good' 'quality' 'ear'\n",
      " 'speaker' 'headphone' 'sound']\n",
      "Topic 4 most important words: ['hold' 'stand' 'protector' 'like' 'tablet' 'screen' 'kindle' 'fit'\n",
      " 'cover' 'ipad' 'case']\n",
      "Topic 5 most important words: ['seagate' 'backup' 'data' 'external' 'computer' 'gb' 'file' 'hard' 'usb'\n",
      " 'hard drive' 'drive']\n",
      "Topic 6 most important words: ['quality' 'port' 'plug' 'connector' 'work' 'tv' 'cable work' 'hdmi cable'\n",
      " 'usb' 'hdmi' 'cable']\n",
      "Topic 7 most important words: ['phone' 'original' 'power' 'hour' 'charged' 'battery life' 'charging'\n",
      " 'life' 'charger' 'charge' 'battery']\n",
      "Topic 8 most important words: ['hand' 'laptop' 'like' 'feel' 'usb' 'use' 'button' 'logitech' 'key'\n",
      " 'keyboard' 'mouse']\n",
      "Topic 9 most important words: ['speed' 'usb' 'sandisk' 'card reader' 'memory card' 'reader' 'gb'\n",
      " 'memory' 'sd card' 'sd' 'card']\n",
      "Topic 10 most important words: ['mm lens' 'zoom' 'cap' 'nikon' 'bag' 'hood' 'focus' 'canon' 'filter' 'mm'\n",
      " 'lens']\n"
     ]
    },
    {
     "data": {
      "text/plain": [
       "[array(['remote', 'great', 'problem', 'use', 'router', 'time', 'device',\n",
       "        'unit', 'tv', 'product', 'work'], dtype='<U25'),\n",
       " array(['shoot', 'zoom', 'shot', 'image', 'quality', 'flash', 'photo',\n",
       "        'canon', 'video', 'picture', 'camera'], dtype='<U25'),\n",
       " array(['price', 'volume', 'music', 'sound quality', 'bass', 'good',\n",
       "        'quality', 'ear', 'speaker', 'headphone', 'sound'], dtype='<U25'),\n",
       " array(['hold', 'stand', 'protector', 'like', 'tablet', 'screen', 'kindle',\n",
       "        'fit', 'cover', 'ipad', 'case'], dtype='<U25'),\n",
       " array(['seagate', 'backup', 'data', 'external', 'computer', 'gb', 'file',\n",
       "        'hard', 'usb', 'hard drive', 'drive'], dtype='<U25'),\n",
       " array(['quality', 'port', 'plug', 'connector', 'work', 'tv', 'cable work',\n",
       "        'hdmi cable', 'usb', 'hdmi', 'cable'], dtype='<U25'),\n",
       " array(['phone', 'original', 'power', 'hour', 'charged', 'battery life',\n",
       "        'charging', 'life', 'charger', 'charge', 'battery'], dtype='<U25'),\n",
       " array(['hand', 'laptop', 'like', 'feel', 'usb', 'use', 'button',\n",
       "        'logitech', 'key', 'keyboard', 'mouse'], dtype='<U25'),\n",
       " array(['speed', 'usb', 'sandisk', 'card reader', 'memory card', 'reader',\n",
       "        'gb', 'memory', 'sd card', 'sd', 'card'], dtype='<U25'),\n",
       " array(['mm lens', 'zoom', 'cap', 'nikon', 'bag', 'hood', 'focus', 'canon',\n",
       "        'filter', 'mm', 'lens'], dtype='<U25')]"
      ]
     },
     "execution_count": 118,
     "metadata": {},
     "output_type": "execute_result"
    }
   ],
   "source": [
    "# bigrams\n",
    "nmf_n2 = NMF(n_components=10, random_state=123, alpha=.1, l1_ratio=.5).fit(tf_idf_n2)\n",
    "print_topics(nmf_n2, features_n2 , 10)"
   ]
  },
  {
   "cell_type": "code",
   "execution_count": null,
   "metadata": {},
   "outputs": [],
   "source": []
  },
  {
   "cell_type": "code",
   "execution_count": null,
   "metadata": {},
   "outputs": [],
   "source": []
  },
  {
   "cell_type": "code",
   "execution_count": null,
   "metadata": {},
   "outputs": [],
   "source": [
    "doc_topics = pd.DataFrame(LDA.transform(td_idf))\n",
    "topic_column_names = [\"topic_{}\".format(c) for c in doc_topics.columns]\n",
    "doc_topics.columns = topic_column_names\n",
    "sample_with_topics = pd.concat([df, doc_topics], axis=1)"
   ]
  },
  {
   "cell_type": "code",
   "execution_count": null,
   "metadata": {},
   "outputs": [],
   "source": [
    "sample_with_topics.isna().sum()"
   ]
  },
  {
   "cell_type": "code",
   "execution_count": null,
   "metadata": {},
   "outputs": [],
   "source": [
    "from sklearn.model_selection import train_test_split\n",
    "X = df_reviews_final[['reviews','asin_reviewer','review_length']]\n",
    "y = df_reviews_final['overall']\n",
    "X_train, X_test, y_train, y_test = train_test_split(X, y, random_state = 42)\n",
    "tfidf = TfidfVectorizer()\n",
    "tfidf_words = tfidf.fit_transform(X_train['reviews'])\n",
    "vector_df = pd.DataFrame(tfidf_words.toarray(), columns=tfidf.get_feature_names())"
   ]
  }
 ],
 "metadata": {
  "kernelspec": {
   "display_name": "Python 3",
   "language": "python",
   "name": "python3"
  },
  "language_info": {
   "codemirror_mode": {
    "name": "ipython",
    "version": 3
   },
   "file_extension": ".py",
   "mimetype": "text/x-python",
   "name": "python",
   "nbconvert_exporter": "python",
   "pygments_lexer": "ipython3",
   "version": "3.7.4"
  }
 },
 "nbformat": 4,
 "nbformat_minor": 2
}
