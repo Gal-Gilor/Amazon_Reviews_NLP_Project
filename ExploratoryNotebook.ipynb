{
 "cells": [
  {
   "cell_type": "markdown",
   "id": "4c636a22",
   "metadata": {},
   "source": [
    "# Amazon Reviews\n",
    "\n",
    "[Readme](https://s3.amazonaws.com/amazon-reviews-pds/readme.html) \\\n",
    "[Index](https://s3.amazonaws.com/amazon-reviews-pds/tsv/index.txt)\n",
    "\n",
    "\n",
    "## Column Descriptions\n",
    "\n",
    "* marketplace       - 2 letter country code of the marketplace where the review was written.\n",
    "* customer_id       - Random identifier that can be used to aggregate reviews written by a single author.\n",
    "* review_id         - The unique ID of the review.\n",
    "* product_id        - The unique Product ID the review pertains to. In the multilingual dataset the reviews for the same product in different countries can be grouped by the same product_id.\n",
    "* product_parent    - Random identifier that can be used to aggregate reviews for the same product.\n",
    "* product_title     - Title of the product.\n",
    "* product_category  - Broad product category that can be used to group reviews (also used to group the dataset into coherent parts).\n",
    "* star_rating       - The 1-5 star rating of the review.\n",
    "* helpful_votes     - Number of helpful votes.\n",
    "* total_votes       - Number of total votes the review received.\n",
    "* vine              - Review was written as part of the Vine program.\n",
    "* verified_purchase - The review is on a verified purchase.\n",
    "* review_headline   - The title of the review.\n",
    "* review_body       - The review text.\n",
    "* review_date       - The date the review was written.\n"
   ]
  },
  {
   "cell_type": "code",
   "execution_count": 1,
   "id": "0617801a",
   "metadata": {},
   "outputs": [],
   "source": [
    "import pandas as pd\n",
    "import gzip\n",
    "import os\n",
    "import numpy as np\n",
    "\n",
    "from typing import Dict, Optional, List, Union"
   ]
  },
  {
   "cell_type": "markdown",
   "id": "78ade35e",
   "metadata": {},
   "source": [
    "### Download, Parse and Load Dataset"
   ]
  },
  {
   "cell_type": "code",
   "execution_count": 2,
   "id": "e8865dee",
   "metadata": {
    "scrolled": true
   },
   "outputs": [],
   "source": [
    "def parse_gz(path: str):\n",
    "    '''\n",
    "    Open GZ file and decode bytes to strings\n",
    "    inputs:\n",
    "        path: string, path to the .gz file\n",
    "    '''\n",
    "    g = gzip.open(path, 'rb')\n",
    "    for l in g:\n",
    "        l = l.decode(\"utf-8\") \n",
    "        yield l\n",
    "        \n",
    "def read_reviews(path: str):\n",
    "    '''\n",
    "    Read Amazon's product reviews file and return a pandas DataFrame\n",
    "    inputs:\n",
    "        path: string, path to the .tsv.gz file\n",
    "    '''\n",
    "    data = []\n",
    "    for i, line in enumerate(parse_gz(path)):\n",
    "        \n",
    "        line = line.split('\\t') # separate the tab separated line\n",
    "        line[-1] = line[-1].strip() # remove trailing new lines\n",
    "        data.append(line)\n",
    "        \n",
    "    columns = data.pop(0)\n",
    "    return pd.DataFrame.from_records(data, columns=columns)\n",
    "\n",
    "def download_reviews(url: str, location: str, filename: Optional[str] = 'reviews.gz'):\n",
    "    '''\n",
    "    Downloads an S3 tsv.gz file and unzips it locally\n",
    "    inputs:\n",
    "        ur:\n",
    "        location:\n",
    "        filename:\n",
    "    '''\n",
    "    \n",
    "    # create new directory to store the product reviews\n",
    "    try:\n",
    "        os.makedirs(location)\n",
    "        print('Successfully created new directory')\n",
    "        \n",
    "        print('Starting to download the dataset...')\n",
    "        path = os.path.join(location, filename) # create the full path to store the download\n",
    "        urllib.request.urlretrieve(url, path) \n",
    "        print('Download completed.')\n",
    "\n",
    "        print('Parsing and converting the GZip file as a pandas DataFrame. This may take awhile...')\n",
    "        df = read_reviews(path)\n",
    "        print('Successfully created a new DataFrame containing Amazon product reviews.')\n",
    "\n",
    "        save_csv = input('Would you like to save this DataFrame as a CSV to avoid having to parse the file again? Type yes proceed\\n')\n",
    "\n",
    "        if save_csv.lower() == 'yes':\n",
    "            save_as = input('How would you like to name the DataFrame?\\n')\n",
    "            path = f'{location}/{save_as}'\n",
    "            df.to_csv(path, index=False)\n",
    "            print(f'Successfully saved {path}')\n",
    "    \n",
    "    except FileExistsError:\n",
    "        print(f'Directory already exists')\n",
    "        \n",
    "    pass"
   ]
  },
  {
   "cell_type": "code",
   "execution_count": 6,
   "id": "af69e095",
   "metadata": {},
   "outputs": [
    {
     "name": "stdout",
     "output_type": "stream",
     "text": [
      "Directory already exists\n",
      "Starting to download the dataset\n",
      "Download completed\n",
      "Parsing and converting the GZip file as a pandas DataFrame. This may take awhile...\n",
      "Successfully created a new DataFrame containing Amazon product reviews\n",
      "Would you like to save this DataFrame as a CSV to avoid having to parse the file again? Type yes proceed\n",
      "yes\n",
      "How would you like to name the DataFrame?\n",
      "reviews.csv\n",
      "Successfully saved reviews/raw/reviews.csv\n",
      "Wall time: 7min 31s\n"
     ]
    }
   ],
   "source": [
    "%%time\n",
    "\n",
    "url = 'https://s3.amazonaws.com/amazon-reviews-pds/tsv/amazon_reviews_us_Electronics_v1_00.tsv.gz'\n",
    "location = 'reviews/raw'\n",
    "filename = 'reviews.gz'\n",
    "\n",
    "# download the reviews\n",
    "download_reviews(url, location, filename)"
   ]
  },
  {
   "cell_type": "code",
   "execution_count": 3,
   "id": "d4f84946",
   "metadata": {},
   "outputs": [],
   "source": [
    "import matplotlib.pyplot as plt\n",
    "import seaborn as sns\n",
    "\n",
    "%matplotlib inline\n",
    "plt.style.use('seaborn-dark')"
   ]
  },
  {
   "cell_type": "code",
   "execution_count": 4,
   "id": "a416a5ed",
   "metadata": {},
   "outputs": [],
   "source": [
    "# load review text and ratings\n",
    "csv_location = 'reviews/raw/reviews.csv'\n",
    "columns = ['review_headline', 'review_body', 'star_rating']\n",
    "\n",
    "try:\n",
    "    df = pd.read_csv(csv_location, usecols=columns)\n",
    "\n",
    "except FileExistsError:\n",
    "    df, _ = download_reviews(url, location, filename)\n",
    "    \n",
    "try:\n",
    "    os.makedirs('figures')\n",
    "except:\n",
    "    pass"
   ]
  },
  {
   "cell_type": "code",
   "execution_count": 5,
   "id": "04de1af1",
   "metadata": {},
   "outputs": [
    {
     "data": {
      "text/html": [
       "<div>\n",
       "<style scoped>\n",
       "    .dataframe tbody tr th:only-of-type {\n",
       "        vertical-align: middle;\n",
       "    }\n",
       "\n",
       "    .dataframe tbody tr th {\n",
       "        vertical-align: top;\n",
       "    }\n",
       "\n",
       "    .dataframe thead th {\n",
       "        text-align: right;\n",
       "    }\n",
       "</style>\n",
       "<table border=\"1\" class=\"dataframe\">\n",
       "  <thead>\n",
       "    <tr style=\"text-align: right;\">\n",
       "      <th></th>\n",
       "      <th>star_rating</th>\n",
       "      <th>review_headline</th>\n",
       "      <th>review_body</th>\n",
       "    </tr>\n",
       "  </thead>\n",
       "  <tbody>\n",
       "    <tr>\n",
       "      <th>0</th>\n",
       "      <td>5</td>\n",
       "      <td>Five Stars</td>\n",
       "      <td>As described.</td>\n",
       "    </tr>\n",
       "    <tr>\n",
       "      <th>1</th>\n",
       "      <td>5</td>\n",
       "      <td>It works as advertising.</td>\n",
       "      <td>It works as advertising.</td>\n",
       "    </tr>\n",
       "    <tr>\n",
       "      <th>2</th>\n",
       "      <td>5</td>\n",
       "      <td>Five Stars</td>\n",
       "      <td>Works pissa</td>\n",
       "    </tr>\n",
       "    <tr>\n",
       "      <th>3</th>\n",
       "      <td>1</td>\n",
       "      <td>One Star</td>\n",
       "      <td>Did not work at all.</td>\n",
       "    </tr>\n",
       "    <tr>\n",
       "      <th>4</th>\n",
       "      <td>5</td>\n",
       "      <td>Overall pleased with the item</td>\n",
       "      <td>Works well. Bass is somewhat lacking but is pr...</td>\n",
       "    </tr>\n",
       "    <tr>\n",
       "      <th>5</th>\n",
       "      <td>5</td>\n",
       "      <td>Five Stars</td>\n",
       "      <td>The quality on these speakers is insanely good...</td>\n",
       "    </tr>\n",
       "    <tr>\n",
       "      <th>6</th>\n",
       "      <td>5</td>\n",
       "      <td>Lifesaver</td>\n",
       "      <td>Wish I could give this product more than five ...</td>\n",
       "    </tr>\n",
       "    <tr>\n",
       "      <th>7</th>\n",
       "      <td>5</td>\n",
       "      <td>Five Stars</td>\n",
       "      <td>works great</td>\n",
       "    </tr>\n",
       "    <tr>\n",
       "      <th>8</th>\n",
       "      <td>4</td>\n",
       "      <td>Four Stars</td>\n",
       "      <td>Great sound and compact. Battery life seems go...</td>\n",
       "    </tr>\n",
       "    <tr>\n",
       "      <th>9</th>\n",
       "      <td>4</td>\n",
       "      <td>Four Stars</td>\n",
       "      <td>It works well~~~</td>\n",
       "    </tr>\n",
       "  </tbody>\n",
       "</table>\n",
       "</div>"
      ],
      "text/plain": [
       "   star_rating                review_headline  \\\n",
       "0            5                     Five Stars   \n",
       "1            5       It works as advertising.   \n",
       "2            5                     Five Stars   \n",
       "3            1                       One Star   \n",
       "4            5  Overall pleased with the item   \n",
       "5            5                     Five Stars   \n",
       "6            5                      Lifesaver   \n",
       "7            5                     Five Stars   \n",
       "8            4                     Four Stars   \n",
       "9            4                     Four Stars   \n",
       "\n",
       "                                         review_body  \n",
       "0                                      As described.  \n",
       "1                           It works as advertising.  \n",
       "2                                        Works pissa  \n",
       "3                               Did not work at all.  \n",
       "4  Works well. Bass is somewhat lacking but is pr...  \n",
       "5  The quality on these speakers is insanely good...  \n",
       "6  Wish I could give this product more than five ...  \n",
       "7                                        works great  \n",
       "8  Great sound and compact. Battery life seems go...  \n",
       "9                                   It works well~~~  "
      ]
     },
     "execution_count": 5,
     "metadata": {},
     "output_type": "execute_result"
    }
   ],
   "source": [
    "df.head(10)"
   ]
  },
  {
   "cell_type": "code",
   "execution_count": 6,
   "id": "9ad41c40",
   "metadata": {},
   "outputs": [
    {
     "data": {
      "text/plain": [
       "\"The quality on these speakers is insanely good and doesn't sound muddy when adjusting bass. Very happy with these.\""
      ]
     },
     "execution_count": 6,
     "metadata": {},
     "output_type": "execute_result"
    }
   ],
   "source": [
    "df['review_body'][5]"
   ]
  },
  {
   "cell_type": "code",
   "execution_count": 7,
   "id": "11c5bfce",
   "metadata": {},
   "outputs": [
    {
     "name": "stdout",
     "output_type": "stream",
     "text": [
      "<class 'pandas.core.frame.DataFrame'>\n",
      "RangeIndex: 3093869 entries, 0 to 3093868\n",
      "Data columns (total 3 columns):\n",
      " #   Column           Dtype \n",
      "---  ------           ----- \n",
      " 0   star_rating      int64 \n",
      " 1   review_headline  object\n",
      " 2   review_body      object\n",
      "dtypes: int64(1), object(2)\n",
      "memory usage: 70.8+ MB\n"
     ]
    }
   ],
   "source": [
    "df.info()"
   ]
  },
  {
   "cell_type": "code",
   "execution_count": 9,
   "id": "b137dac6",
   "metadata": {},
   "outputs": [
    {
     "name": "stdout",
     "output_type": "stream",
     "text": [
      "<class 'pandas.core.frame.DataFrame'>\n",
      "RangeIndex: 3093869 entries, 0 to 3093868\n",
      "Data columns (total 3 columns):\n",
      " #   Column           Dtype \n",
      "---  ------           ----- \n",
      " 0   star_rating      int8  \n",
      " 1   review_headline  object\n",
      " 2   review_body      object\n",
      "dtypes: int8(1), object(2)\n",
      "memory usage: 50.2+ MB\n"
     ]
    }
   ],
   "source": [
    "# star rating is an integer between 1 and 5 -> int8 would suffice\n",
    "df['star_rating'] = df['star_rating'].astype('int8')\n",
    "\n",
    "# make sure the other columns are strings\n",
    "df['review_headline'] = df['review_headline'].apply(lambda x: str(x))\n",
    "df['review_body']= df['review_body'].apply(lambda x: str(x))\n",
    "\n",
    "df.info()"
   ]
  },
  {
   "cell_type": "code",
   "execution_count": 10,
   "id": "67550c8e",
   "metadata": {},
   "outputs": [
    {
     "data": {
      "image/png": "[encoded data removed]",
      "text/plain": [
       "<Figure size 648x432 with 1 Axes>"
      ]
     },
     "metadata": {},
     "output_type": "display_data"
    }
   ],
   "source": [
    "# check the rating distribution\n",
    "plt.figure(figsize=((9, 6)))\n",
    "hist_ax = sns.countplot(x='star_rating', data=df)\n",
    "hist_ax.set(xlabel='Rating', ylabel='Reviews')\n",
    "hist_ax.set(title='Original Rating Distribution')\n",
    "plt.tight_layout()\n",
    "\n",
    "if not os.path.isfile('figures/ratings_distributions.jpg'):\n",
    "    plt.savefig('figures/ratings_distributions.jpg')"
   ]
  },
  {
   "cell_type": "code",
   "execution_count": 20,
   "id": "b00feb31",
   "metadata": {},
   "outputs": [
    {
     "name": "stdout",
     "output_type": "stream",
     "text": [
      "Wall time: 37.4 s\n"
     ]
    },
    {
     "data": {
      "text/html": [
       "<div>\n",
       "<style scoped>\n",
       "    .dataframe tbody tr th:only-of-type {\n",
       "        vertical-align: middle;\n",
       "    }\n",
       "\n",
       "    .dataframe tbody tr th {\n",
       "        vertical-align: top;\n",
       "    }\n",
       "\n",
       "    .dataframe thead th {\n",
       "        text-align: right;\n",
       "    }\n",
       "</style>\n",
       "<table border=\"1\" class=\"dataframe\">\n",
       "  <thead>\n",
       "    <tr style=\"text-align: right;\">\n",
       "      <th></th>\n",
       "      <th>count</th>\n",
       "      <th>mean</th>\n",
       "      <th>std</th>\n",
       "      <th>min</th>\n",
       "      <th>25%</th>\n",
       "      <th>50%</th>\n",
       "      <th>75%</th>\n",
       "      <th>max</th>\n",
       "    </tr>\n",
       "  </thead>\n",
       "  <tbody>\n",
       "    <tr>\n",
       "      <th>review_lengths</th>\n",
       "      <td>3093869.0</td>\n",
       "      <td>375.269285</td>\n",
       "      <td>645.558257</td>\n",
       "      <td>1.0</td>\n",
       "      <td>102.0</td>\n",
       "      <td>189.0</td>\n",
       "      <td>416.0</td>\n",
       "      <td>50610.0</td>\n",
       "    </tr>\n",
       "    <tr>\n",
       "      <th>review_words</th>\n",
       "      <td>3093869.0</td>\n",
       "      <td>70.664756</td>\n",
       "      <td>118.613868</td>\n",
       "      <td>1.0</td>\n",
       "      <td>20.0</td>\n",
       "      <td>36.0</td>\n",
       "      <td>79.0</td>\n",
       "      <td>8543.0</td>\n",
       "    </tr>\n",
       "    <tr>\n",
       "      <th>review_unique_words</th>\n",
       "      <td>3093869.0</td>\n",
       "      <td>49.265280</td>\n",
       "      <td>57.229341</td>\n",
       "      <td>1.0</td>\n",
       "      <td>18.0</td>\n",
       "      <td>31.0</td>\n",
       "      <td>61.0</td>\n",
       "      <td>2201.0</td>\n",
       "    </tr>\n",
       "    <tr>\n",
       "      <th>star_rating</th>\n",
       "      <td>3093869.0</td>\n",
       "      <td>4.035507</td>\n",
       "      <td>1.387438</td>\n",
       "      <td>1.0</td>\n",
       "      <td>3.0</td>\n",
       "      <td>5.0</td>\n",
       "      <td>5.0</td>\n",
       "      <td>5.0</td>\n",
       "    </tr>\n",
       "  </tbody>\n",
       "</table>\n",
       "</div>"
      ],
      "text/plain": [
       "                         count        mean         std  min    25%    50%  \\\n",
       "review_lengths       3093869.0  375.269285  645.558257  1.0  102.0  189.0   \n",
       "review_words         3093869.0   70.664756  118.613868  1.0   20.0   36.0   \n",
       "review_unique_words  3093869.0   49.265280   57.229341  1.0   18.0   31.0   \n",
       "star_rating          3093869.0    4.035507    1.387438  1.0    3.0    5.0   \n",
       "\n",
       "                       75%      max  \n",
       "review_lengths       416.0  50610.0  \n",
       "review_words          79.0   8543.0  \n",
       "review_unique_words   61.0   2201.0  \n",
       "star_rating            5.0      5.0  "
      ]
     },
     "execution_count": 20,
     "metadata": {},
     "output_type": "execute_result"
    }
   ],
   "source": [
    "%%time\n",
    "\n",
    "to_plot = ['review_lengths', 'review_words', 'review_unique_words']\n",
    "review_lengths = df['review_body'].apply(lambda x: len(x)) # count the number of characters\n",
    "review_words = df['review_body'].apply(lambda x: len(x.split(' '))) # count then number of words\n",
    "review_unique_words = df['review_body'].apply(lambda x: len(set(x.split(' ')))) # count the number of unique words\n",
    "\n",
    "review_text_lengths = pd.DataFrame({\n",
    "    'review_lengths': review_lengths,\n",
    "    'review_words': review_words,\n",
    "    'review_unique_words': review_unique_words,\n",
    "    'star_rating': df['star_rating'].copy(deep=True)\n",
    "})\n",
    "\n",
    "# display some descriptive statistics\n",
    "review_text_lengths.describe().T"
   ]
  },
  {
   "cell_type": "code",
   "execution_count": 21,
   "id": "3c9668c3",
   "metadata": {},
   "outputs": [
    {
     "name": "stdout",
     "output_type": "stream",
     "text": [
      "<class 'pandas.core.frame.DataFrame'>\n",
      "RangeIndex: 3093869 entries, 0 to 3093868\n",
      "Data columns (total 4 columns):\n",
      " #   Column               Dtype\n",
      "---  ------               -----\n",
      " 0   review_lengths       int32\n",
      " 1   review_words         int16\n",
      " 2   review_unique_words  int16\n",
      " 3   star_rating          int8 \n",
      "dtypes: int16(2), int32(1), int8(1)\n",
      "memory usage: 26.6 MB\n"
     ]
    }
   ],
   "source": [
    "# optimize memory usage\n",
    "review_text_lengths = review_text_lengths.apply(lambda x: pd.to_numeric(x, downcast=\"integer\")) \n",
    "review_text_lengths.info()"
   ]
  },
  {
   "cell_type": "code",
   "execution_count": 22,
   "id": "0d4fd4e4",
   "metadata": {},
   "outputs": [
    {
     "data": {
      "image/png": "[encoded data removed]",
      "text/plain": [
       "<Figure size 576x432 with 1 Axes>"
      ]
     },
     "metadata": {},
     "output_type": "display_data"
    }
   ],
   "source": [
    "# identify the how long the reviews are\n",
    "fig = plt.figure(figsize=(8, 6))\n",
    "sns.histplot(x='review_lengths', data=review_text_lengths, kde=True, bins=125)\n",
    "plt.title('Review Lengths Histogram')\n",
    "plt.show()"
   ]
  },
  {
   "cell_type": "code",
   "execution_count": 23,
   "id": "7f26e920",
   "metadata": {},
   "outputs": [],
   "source": [
    "# most of the reviews are short.\n",
    "# removing reviews that are longer than 1500 characters (about half a page)\n",
    "long_reviews_text = review_text_lengths.loc[review_text_lengths['review_lengths'] > 1.5e3]\n",
    "regular_reviews_text  = review_text_lengths.loc[review_text_lengths['review_lengths'] <= 1.5e3]"
   ]
  },
  {
   "cell_type": "code",
   "execution_count": 24,
   "id": "20e5b048",
   "metadata": {},
   "outputs": [
    {
     "data": {
      "image/png": "[encoded data removed]",
      "text/plain": [
       "<Figure size 648x432 with 1 Axes>"
      ]
     },
     "metadata": {},
     "output_type": "display_data"
    }
   ],
   "source": [
    "# check the distribution of ratings among verbous reviews\n",
    "plt.figure(figsize=((9, 6)))\n",
    "ax = sns.countplot(x='star_rating', data=long_reviews_text)\n",
    "ax.set(xlabel='Rating', ylabel='Review Length')\n",
    "ax.set(title='Long Review Rating Distribution')\n",
    "plt.show()"
   ]
  },
  {
   "cell_type": "code",
   "execution_count": 25,
   "id": "0dfa52c9",
   "metadata": {},
   "outputs": [
    {
     "data": {
      "text/html": [
       "<div>\n",
       "<style scoped>\n",
       "    .dataframe tbody tr th:only-of-type {\n",
       "        vertical-align: middle;\n",
       "    }\n",
       "\n",
       "    .dataframe tbody tr th {\n",
       "        vertical-align: top;\n",
       "    }\n",
       "\n",
       "    .dataframe thead th {\n",
       "        text-align: right;\n",
       "    }\n",
       "</style>\n",
       "<table border=\"1\" class=\"dataframe\">\n",
       "  <thead>\n",
       "    <tr style=\"text-align: right;\">\n",
       "      <th></th>\n",
       "      <th>count</th>\n",
       "      <th>mean</th>\n",
       "      <th>std</th>\n",
       "      <th>min</th>\n",
       "      <th>25%</th>\n",
       "      <th>50%</th>\n",
       "      <th>75%</th>\n",
       "      <th>max</th>\n",
       "    </tr>\n",
       "  </thead>\n",
       "  <tbody>\n",
       "    <tr>\n",
       "      <th>review_lengths</th>\n",
       "      <td>115558.0</td>\n",
       "      <td>2715.984493</td>\n",
       "      <td>1819.914129</td>\n",
       "      <td>1501.0</td>\n",
       "      <td>1739.0</td>\n",
       "      <td>2117.0</td>\n",
       "      <td>3016.0</td>\n",
       "      <td>50610.0</td>\n",
       "    </tr>\n",
       "    <tr>\n",
       "      <th>review_words</th>\n",
       "      <td>115558.0</td>\n",
       "      <td>501.819943</td>\n",
       "      <td>326.455428</td>\n",
       "      <td>24.0</td>\n",
       "      <td>325.0</td>\n",
       "      <td>395.0</td>\n",
       "      <td>560.0</td>\n",
       "      <td>8543.0</td>\n",
       "    </tr>\n",
       "    <tr>\n",
       "      <th>review_unique_words</th>\n",
       "      <td>115558.0</td>\n",
       "      <td>256.837000</td>\n",
       "      <td>102.659468</td>\n",
       "      <td>2.0</td>\n",
       "      <td>194.0</td>\n",
       "      <td>225.0</td>\n",
       "      <td>285.0</td>\n",
       "      <td>2201.0</td>\n",
       "    </tr>\n",
       "    <tr>\n",
       "      <th>star_rating</th>\n",
       "      <td>115558.0</td>\n",
       "      <td>3.952085</td>\n",
       "      <td>1.270238</td>\n",
       "      <td>1.0</td>\n",
       "      <td>3.0</td>\n",
       "      <td>4.0</td>\n",
       "      <td>5.0</td>\n",
       "      <td>5.0</td>\n",
       "    </tr>\n",
       "  </tbody>\n",
       "</table>\n",
       "</div>"
      ],
      "text/plain": [
       "                        count         mean          std     min     25%  \\\n",
       "review_lengths       115558.0  2715.984493  1819.914129  1501.0  1739.0   \n",
       "review_words         115558.0   501.819943   326.455428    24.0   325.0   \n",
       "review_unique_words  115558.0   256.837000   102.659468     2.0   194.0   \n",
       "star_rating          115558.0     3.952085     1.270238     1.0     3.0   \n",
       "\n",
       "                        50%     75%      max  \n",
       "review_lengths       2117.0  3016.0  50610.0  \n",
       "review_words          395.0   560.0   8543.0  \n",
       "review_unique_words   225.0   285.0   2201.0  \n",
       "star_rating             4.0     5.0      5.0  "
      ]
     },
     "execution_count": 25,
     "metadata": {},
     "output_type": "execute_result"
    }
   ],
   "source": [
    "long_reviews_text.describe().T"
   ]
  },
  {
   "cell_type": "code",
   "execution_count": 26,
   "id": "cf82e778",
   "metadata": {},
   "outputs": [
    {
     "data": {
      "image/png": "[encoded data removed]",
      "text/plain": [
       "<Figure size 936x432 with 2 Axes>"
      ]
     },
     "metadata": {},
     "output_type": "display_data"
    }
   ],
   "source": [
    "# check the distribution of ratings among remaining reviews\n",
    "fig, ax = plt.subplots(1, 2, figsize=(13, 6))\n",
    "\n",
    "# boxplots\n",
    "columns_to_melt = ['review_lengths', 'review_words', 'review_unique_words']\n",
    "sns.boxplot(x=\"variable\", y=\"value\", data=pd.melt(regular_reviews_text[columns_to_melt]), ax=ax[0])\n",
    "ax[0].set_title('Review Lengths Histogram')\n",
    "ax[0].set_xlabel('Columns')\n",
    "ax[0].set_ylabel('Counts')\n",
    "\n",
    "# histogram\n",
    "sns.histplot(x='review_lengths', data=regular_reviews_text, kde=True, ax=ax[1])\n",
    "ax[1].set_title('Review Lengths Histogram')\n",
    "\n",
    "plt.tight_layout()"
   ]
  },
  {
   "cell_type": "code",
   "execution_count": 32,
   "id": "6efbe73f",
   "metadata": {},
   "outputs": [
    {
     "data": {
      "image/png": "[encoded data removed]",
      "text/plain": [
       "<Figure size 648x432 with 1 Axes>"
      ]
     },
     "metadata": {},
     "output_type": "display_data"
    }
   ],
   "source": [
    "really_short_reviews = review_text_lengths.loc[review_text_lengths['review_lengths'] <= 50]\n",
    "plt.figure(figsize=((9, 6)))\n",
    "ax = sns.countplot(x='star_rating', data=really_short_reviews)\n",
    "ax.set(xlabel='Rating', ylabel='Review Length')\n",
    "ax.set(title='Short Review Rating Distribution')\n",
    "plt.show()"
   ]
  },
  {
   "cell_type": "markdown",
   "id": "27cc1bd1",
   "metadata": {},
   "source": [
    "* __Null Hypothesis__: People that write short reviews leave ratings at random. Equal probability for ratings 1 - 5.\n",
    "* __Hypothesis__: People that write short reviews do not leave ratings at random \n",
    "\n",
    "alpha = 0.05 (5%)"
   ]
  },
  {
   "cell_type": "code",
   "execution_count": 46,
   "id": "a5dbb8aa",
   "metadata": {},
   "outputs": [
    {
     "data": {
      "text/plain": [
       "array([ 35125,  12249,  21229,  62775, 332430], dtype=int64)"
      ]
     },
     "execution_count": 46,
     "metadata": {},
     "output_type": "execute_result"
    }
   ],
   "source": [
    "a['review_lengths'].values"
   ]
  },
  {
   "cell_type": "code",
   "execution_count": null,
   "id": "8e6e52ed",
   "metadata": {},
   "outputs": [],
   "source": []
  },
  {
   "cell_type": "code",
   "execution_count": 47,
   "id": "be2168da",
   "metadata": {},
   "outputs": [],
   "source": [
    "d = pd.DataFrame()\n",
    "a = really_short_reviews[['review_lengths', 'star_rating']].groupby(['star_rating']).agg('count')\n",
    "a = a['review_lengths'].values\n",
    "d['test'] = a"
   ]
  },
  {
   "cell_type": "code",
   "execution_count": 48,
   "id": "2b9d2fe9",
   "metadata": {},
   "outputs": [
    {
     "data": {
      "text/html": [
       "<div>\n",
       "<style scoped>\n",
       "    .dataframe tbody tr th:only-of-type {\n",
       "        vertical-align: middle;\n",
       "    }\n",
       "\n",
       "    .dataframe tbody tr th {\n",
       "        vertical-align: top;\n",
       "    }\n",
       "\n",
       "    .dataframe thead th {\n",
       "        text-align: right;\n",
       "    }\n",
       "</style>\n",
       "<table border=\"1\" class=\"dataframe\">\n",
       "  <thead>\n",
       "    <tr style=\"text-align: right;\">\n",
       "      <th></th>\n",
       "      <th>test</th>\n",
       "    </tr>\n",
       "  </thead>\n",
       "  <tbody>\n",
       "    <tr>\n",
       "      <th>0</th>\n",
       "      <td>35125</td>\n",
       "    </tr>\n",
       "    <tr>\n",
       "      <th>1</th>\n",
       "      <td>12249</td>\n",
       "    </tr>\n",
       "    <tr>\n",
       "      <th>2</th>\n",
       "      <td>21229</td>\n",
       "    </tr>\n",
       "    <tr>\n",
       "      <th>3</th>\n",
       "      <td>62775</td>\n",
       "    </tr>\n",
       "    <tr>\n",
       "      <th>4</th>\n",
       "      <td>332430</td>\n",
       "    </tr>\n",
       "  </tbody>\n",
       "</table>\n",
       "</div>"
      ],
      "text/plain": [
       "     test\n",
       "0   35125\n",
       "1   12249\n",
       "2   21229\n",
       "3   62775\n",
       "4  332430"
      ]
     },
     "execution_count": 48,
     "metadata": {},
     "output_type": "execute_result"
    }
   ],
   "source": [
    "d"
   ]
  },
  {
   "cell_type": "code",
   "execution_count": 51,
   "id": "711bbcd4",
   "metadata": {},
   "outputs": [
    {
     "data": {
      "text/html": [
       "<div>\n",
       "<style scoped>\n",
       "    .dataframe tbody tr th:only-of-type {\n",
       "        vertical-align: middle;\n",
       "    }\n",
       "\n",
       "    .dataframe tbody tr th {\n",
       "        vertical-align: top;\n",
       "    }\n",
       "\n",
       "    .dataframe thead th {\n",
       "        text-align: right;\n",
       "    }\n",
       "</style>\n",
       "<table border=\"1\" class=\"dataframe\">\n",
       "  <thead>\n",
       "    <tr style=\"text-align: right;\">\n",
       "      <th></th>\n",
       "      <th>0</th>\n",
       "      <th>1</th>\n",
       "      <th>2</th>\n",
       "      <th>3</th>\n",
       "      <th>4</th>\n",
       "    </tr>\n",
       "  </thead>\n",
       "  <tbody>\n",
       "    <tr>\n",
       "      <th>short_reviews</th>\n",
       "      <td>35125</td>\n",
       "      <td>12249</td>\n",
       "      <td>21229</td>\n",
       "      <td>62775</td>\n",
       "      <td>332430</td>\n",
       "    </tr>\n",
       "    <tr>\n",
       "      <th>regular_reviews</th>\n",
       "      <td>322995</td>\n",
       "      <td>166931</td>\n",
       "      <td>217358</td>\n",
       "      <td>474046</td>\n",
       "      <td>1448731</td>\n",
       "    </tr>\n",
       "  </tbody>\n",
       "</table>\n",
       "</div>"
      ],
      "text/plain": [
       "                      0       1       2       3        4\n",
       "short_reviews     35125   12249   21229   62775   332430\n",
       "regular_reviews  322995  166931  217358  474046  1448731"
      ]
     },
     "execution_count": 51,
     "metadata": {},
     "output_type": "execute_result"
    }
   ],
   "source": [
    "## create contingency table\n",
    "\n",
    "# separate the population that wrote reviews longer than 50 charachters\n",
    "rest_lengths_reviews = review_text_lengths.loc[review_text_lengths['review_lengths'] > 50]\n",
    "\n",
    "short_lengths = really_short_reviews[['review_lengths', 'star_rating']].groupby(['star_rating']).agg('count')\n",
    "regular_lengths = rest_lengths_reviews[['review_lengths', 'star_rating']].groupby(['star_rating']).agg('count')\n",
    "\n",
    "contingency_table = pd.DataFrame()\n",
    "contingency_table['short_reviews'] = short_lengths['review_lengths'].to_numpy()\n",
    "contingency_table['regular_reviews'] = regular_lengths['review_lengths'].to_numpy()\n",
    "\n",
    "contingency_table.T"
   ]
  },
  {
   "cell_type": "code",
   "execution_count": null,
   "id": "456787af",
   "metadata": {},
   "outputs": [],
   "source": []
  },
  {
   "cell_type": "code",
   "execution_count": 52,
   "id": "592849d6",
   "metadata": {},
   "outputs": [
    {
     "name": "stdout",
     "output_type": "stream",
     "text": [
      "dof=4\n",
      "[[  53686.475077     26861.22697503   35767.04743995   80475.89421789\n",
      "   267017.35629013]\n",
      " [ 304433.524923    152318.77302497  202819.95256005  456345.10578211\n",
      "  1514143.64370987]]\n",
      "probability=0.950, critical=9.488, stat=47281.406\n",
      "Dependent (reject H0)\n",
      "significance=0.050, p=0.000\n",
      "Dependent (reject H0)\n"
     ]
    }
   ],
   "source": [
    "# chi-squared test\n",
    "from scipy.stats import chi2_contingency\n",
    "from scipy.stats import chi2\n",
    "\n",
    "stat, p, dof, expected = chi2_contingency(contingency_table.T.values)\n",
    "print('dof=%d' % dof)\n",
    "print(expected)\n",
    "# interpret test-statistic\n",
    "prob = 0.95\n",
    "critical = chi2.ppf(prob, dof)\n",
    "print('probability=%.3f, critical=%.3f, stat=%.3f' % (prob, critical, stat))\n",
    "\n",
    "if abs(stat) >= critical:\n",
    "    print('Dependent (reject H0)')\n",
    "else:\n",
    "    print('Independent (fail to reject H0)')\n",
    "    # interpret p-value\n",
    "\n",
    "alpha = 1.0 - prob\n",
    "print('significance=%.3f, p=%.3f' % (alpha, p))\n",
    "\n",
    "if p <= alpha:\n",
    "    print('Dependent (reject H0)')\n",
    "else:\n",
    "    print('Independent (fail to reject H0)')"
   ]
  },
  {
   "cell_type": "code",
   "execution_count": 80,
   "id": "2b23af18",
   "metadata": {},
   "outputs": [
    {
     "ename": "KeyboardInterrupt",
     "evalue": "",
     "output_type": "error",
     "traceback": [
      "\u001b[1;31m---------------------------------------------------------------------------\u001b[0m",
      "\u001b[1;31mKeyboardInterrupt\u001b[0m                         Traceback (most recent call last)",
      "\u001b[1;32m<ipython-input-80-0ae4debe7f57>\u001b[0m in \u001b[0;36m<module>\u001b[1;34m\u001b[0m\n\u001b[0;32m      1\u001b[0m \u001b[0mfig\u001b[0m\u001b[1;33m,\u001b[0m \u001b[0max\u001b[0m \u001b[1;33m=\u001b[0m \u001b[0mplt\u001b[0m\u001b[1;33m.\u001b[0m\u001b[0msubplots\u001b[0m\u001b[1;33m(\u001b[0m\u001b[1;36m1\u001b[0m\u001b[1;33m,\u001b[0m \u001b[1;36m3\u001b[0m\u001b[1;33m,\u001b[0m \u001b[0mfigsize\u001b[0m\u001b[1;33m=\u001b[0m\u001b[1;33m(\u001b[0m\u001b[1;36m16\u001b[0m\u001b[1;33m,\u001b[0m \u001b[1;36m5\u001b[0m\u001b[1;33m)\u001b[0m\u001b[1;33m)\u001b[0m\u001b[1;33m\u001b[0m\u001b[1;33m\u001b[0m\u001b[0m\n\u001b[0;32m      2\u001b[0m \u001b[1;32mfor\u001b[0m \u001b[0mi\u001b[0m\u001b[1;33m,\u001b[0m \u001b[0mcolumn\u001b[0m \u001b[1;32min\u001b[0m \u001b[0menumerate\u001b[0m\u001b[1;33m(\u001b[0m\u001b[0mto_plot\u001b[0m\u001b[1;33m)\u001b[0m\u001b[1;33m:\u001b[0m\u001b[1;33m\u001b[0m\u001b[1;33m\u001b[0m\u001b[0m\n\u001b[1;32m----> 3\u001b[1;33m     \u001b[0msns\u001b[0m\u001b[1;33m.\u001b[0m\u001b[0mbarplot\u001b[0m\u001b[1;33m(\u001b[0m\u001b[0mx\u001b[0m\u001b[1;33m=\u001b[0m\u001b[1;34m\"star_rating\"\u001b[0m\u001b[1;33m,\u001b[0m \u001b[0my\u001b[0m\u001b[1;33m=\u001b[0m\u001b[0mcolumn\u001b[0m\u001b[1;33m,\u001b[0m \u001b[0mdata\u001b[0m\u001b[1;33m=\u001b[0m\u001b[0mreview_text_lengths\u001b[0m\u001b[1;33m,\u001b[0m \u001b[0max\u001b[0m\u001b[1;33m=\u001b[0m\u001b[0max\u001b[0m\u001b[1;33m[\u001b[0m\u001b[0mi\u001b[0m\u001b[1;33m]\u001b[0m\u001b[1;33m)\u001b[0m\u001b[1;33m\u001b[0m\u001b[1;33m\u001b[0m\u001b[0m\n\u001b[0m\u001b[0;32m      4\u001b[0m \u001b[1;33m\u001b[0m\u001b[0m\n\u001b[0;32m      5\u001b[0m \u001b[0mfig\u001b[0m\u001b[1;33m.\u001b[0m\u001b[0msubplots_adjust\u001b[0m\u001b[1;33m(\u001b[0m\u001b[0mtop\u001b[0m\u001b[1;33m=\u001b[0m\u001b[1;36m.9\u001b[0m\u001b[1;33m)\u001b[0m\u001b[1;33m\u001b[0m\u001b[1;33m\u001b[0m\u001b[0m\n",
      "\u001b[1;32m~\\Anaconda3\\lib\\site-packages\\seaborn\\_decorators.py\u001b[0m in \u001b[0;36minner_f\u001b[1;34m(*args, **kwargs)\u001b[0m\n\u001b[0;32m     44\u001b[0m             )\n\u001b[0;32m     45\u001b[0m         \u001b[0mkwargs\u001b[0m\u001b[1;33m.\u001b[0m\u001b[0mupdate\u001b[0m\u001b[1;33m(\u001b[0m\u001b[1;33m{\u001b[0m\u001b[0mk\u001b[0m\u001b[1;33m:\u001b[0m \u001b[0marg\u001b[0m \u001b[1;32mfor\u001b[0m \u001b[0mk\u001b[0m\u001b[1;33m,\u001b[0m \u001b[0marg\u001b[0m \u001b[1;32min\u001b[0m \u001b[0mzip\u001b[0m\u001b[1;33m(\u001b[0m\u001b[0msig\u001b[0m\u001b[1;33m.\u001b[0m\u001b[0mparameters\u001b[0m\u001b[1;33m,\u001b[0m \u001b[0margs\u001b[0m\u001b[1;33m)\u001b[0m\u001b[1;33m}\u001b[0m\u001b[1;33m)\u001b[0m\u001b[1;33m\u001b[0m\u001b[1;33m\u001b[0m\u001b[0m\n\u001b[1;32m---> 46\u001b[1;33m         \u001b[1;32mreturn\u001b[0m \u001b[0mf\u001b[0m\u001b[1;33m(\u001b[0m\u001b[1;33m**\u001b[0m\u001b[0mkwargs\u001b[0m\u001b[1;33m)\u001b[0m\u001b[1;33m\u001b[0m\u001b[1;33m\u001b[0m\u001b[0m\n\u001b[0m\u001b[0;32m     47\u001b[0m     \u001b[1;32mreturn\u001b[0m \u001b[0minner_f\u001b[0m\u001b[1;33m\u001b[0m\u001b[1;33m\u001b[0m\u001b[0m\n\u001b[0;32m     48\u001b[0m \u001b[1;33m\u001b[0m\u001b[0m\n",
      "\u001b[1;32m~\\Anaconda3\\lib\\site-packages\\seaborn\\categorical.py\u001b[0m in \u001b[0;36mbarplot\u001b[1;34m(x, y, hue, data, order, hue_order, estimator, ci, n_boot, units, seed, orient, color, palette, saturation, errcolor, errwidth, capsize, dodge, ax, **kwargs)\u001b[0m\n\u001b[0;32m   3180\u001b[0m                           \u001b[0mestimator\u001b[0m\u001b[1;33m,\u001b[0m \u001b[0mci\u001b[0m\u001b[1;33m,\u001b[0m \u001b[0mn_boot\u001b[0m\u001b[1;33m,\u001b[0m \u001b[0munits\u001b[0m\u001b[1;33m,\u001b[0m \u001b[0mseed\u001b[0m\u001b[1;33m,\u001b[0m\u001b[1;33m\u001b[0m\u001b[1;33m\u001b[0m\u001b[0m\n\u001b[0;32m   3181\u001b[0m                           \u001b[0morient\u001b[0m\u001b[1;33m,\u001b[0m \u001b[0mcolor\u001b[0m\u001b[1;33m,\u001b[0m \u001b[0mpalette\u001b[0m\u001b[1;33m,\u001b[0m \u001b[0msaturation\u001b[0m\u001b[1;33m,\u001b[0m\u001b[1;33m\u001b[0m\u001b[1;33m\u001b[0m\u001b[0m\n\u001b[1;32m-> 3182\u001b[1;33m                           errcolor, errwidth, capsize, dodge)\n\u001b[0m\u001b[0;32m   3183\u001b[0m \u001b[1;33m\u001b[0m\u001b[0m\n\u001b[0;32m   3184\u001b[0m     \u001b[1;32mif\u001b[0m \u001b[0max\u001b[0m \u001b[1;32mis\u001b[0m \u001b[1;32mNone\u001b[0m\u001b[1;33m:\u001b[0m\u001b[1;33m\u001b[0m\u001b[1;33m\u001b[0m\u001b[0m\n",
      "\u001b[1;32m~\\Anaconda3\\lib\\site-packages\\seaborn\\categorical.py\u001b[0m in \u001b[0;36m__init__\u001b[1;34m(self, x, y, hue, data, order, hue_order, estimator, ci, n_boot, units, seed, orient, color, palette, saturation, errcolor, errwidth, capsize, dodge)\u001b[0m\n\u001b[0;32m   1585\u001b[0m                                  order, hue_order, units)\n\u001b[0;32m   1586\u001b[0m         \u001b[0mself\u001b[0m\u001b[1;33m.\u001b[0m\u001b[0mestablish_colors\u001b[0m\u001b[1;33m(\u001b[0m\u001b[0mcolor\u001b[0m\u001b[1;33m,\u001b[0m \u001b[0mpalette\u001b[0m\u001b[1;33m,\u001b[0m \u001b[0msaturation\u001b[0m\u001b[1;33m)\u001b[0m\u001b[1;33m\u001b[0m\u001b[1;33m\u001b[0m\u001b[0m\n\u001b[1;32m-> 1587\u001b[1;33m         \u001b[0mself\u001b[0m\u001b[1;33m.\u001b[0m\u001b[0mestimate_statistic\u001b[0m\u001b[1;33m(\u001b[0m\u001b[0mestimator\u001b[0m\u001b[1;33m,\u001b[0m \u001b[0mci\u001b[0m\u001b[1;33m,\u001b[0m \u001b[0mn_boot\u001b[0m\u001b[1;33m,\u001b[0m \u001b[0mseed\u001b[0m\u001b[1;33m)\u001b[0m\u001b[1;33m\u001b[0m\u001b[1;33m\u001b[0m\u001b[0m\n\u001b[0m\u001b[0;32m   1588\u001b[0m \u001b[1;33m\u001b[0m\u001b[0m\n\u001b[0;32m   1589\u001b[0m         \u001b[0mself\u001b[0m\u001b[1;33m.\u001b[0m\u001b[0mdodge\u001b[0m \u001b[1;33m=\u001b[0m \u001b[0mdodge\u001b[0m\u001b[1;33m\u001b[0m\u001b[1;33m\u001b[0m\u001b[0m\n",
      "\u001b[1;32m~\\Anaconda3\\lib\\site-packages\\seaborn\\categorical.py\u001b[0m in \u001b[0;36mestimate_statistic\u001b[1;34m(self, estimator, ci, n_boot, seed)\u001b[0m\n\u001b[0;32m   1487\u001b[0m                                           \u001b[0mn_boot\u001b[0m\u001b[1;33m=\u001b[0m\u001b[0mn_boot\u001b[0m\u001b[1;33m,\u001b[0m\u001b[1;33m\u001b[0m\u001b[1;33m\u001b[0m\u001b[0m\n\u001b[0;32m   1488\u001b[0m                                           \u001b[0munits\u001b[0m\u001b[1;33m=\u001b[0m\u001b[0munit_data\u001b[0m\u001b[1;33m,\u001b[0m\u001b[1;33m\u001b[0m\u001b[1;33m\u001b[0m\u001b[0m\n\u001b[1;32m-> 1489\u001b[1;33m                                           seed=seed)\n\u001b[0m\u001b[0;32m   1490\u001b[0m                         \u001b[0mconfint\u001b[0m\u001b[1;33m.\u001b[0m\u001b[0mappend\u001b[0m\u001b[1;33m(\u001b[0m\u001b[0mutils\u001b[0m\u001b[1;33m.\u001b[0m\u001b[0mci\u001b[0m\u001b[1;33m(\u001b[0m\u001b[0mboots\u001b[0m\u001b[1;33m,\u001b[0m \u001b[0mci\u001b[0m\u001b[1;33m)\u001b[0m\u001b[1;33m)\u001b[0m\u001b[1;33m\u001b[0m\u001b[1;33m\u001b[0m\u001b[0m\n\u001b[0;32m   1491\u001b[0m \u001b[1;33m\u001b[0m\u001b[0m\n",
      "\u001b[1;32m~\\Anaconda3\\lib\\site-packages\\seaborn\\algorithms.py\u001b[0m in \u001b[0;36mbootstrap\u001b[1;34m(*args, **kwargs)\u001b[0m\n\u001b[0;32m     81\u001b[0m     \u001b[0mboot_dist\u001b[0m \u001b[1;33m=\u001b[0m \u001b[1;33m[\u001b[0m\u001b[1;33m]\u001b[0m\u001b[1;33m\u001b[0m\u001b[1;33m\u001b[0m\u001b[0m\n\u001b[0;32m     82\u001b[0m     \u001b[1;32mfor\u001b[0m \u001b[0mi\u001b[0m \u001b[1;32min\u001b[0m \u001b[0mrange\u001b[0m\u001b[1;33m(\u001b[0m\u001b[0mint\u001b[0m\u001b[1;33m(\u001b[0m\u001b[0mn_boot\u001b[0m\u001b[1;33m)\u001b[0m\u001b[1;33m)\u001b[0m\u001b[1;33m:\u001b[0m\u001b[1;33m\u001b[0m\u001b[1;33m\u001b[0m\u001b[0m\n\u001b[1;32m---> 83\u001b[1;33m         \u001b[0mresampler\u001b[0m \u001b[1;33m=\u001b[0m \u001b[0mintegers\u001b[0m\u001b[1;33m(\u001b[0m\u001b[1;36m0\u001b[0m\u001b[1;33m,\u001b[0m \u001b[0mn\u001b[0m\u001b[1;33m,\u001b[0m \u001b[0mn\u001b[0m\u001b[1;33m,\u001b[0m \u001b[0mdtype\u001b[0m\u001b[1;33m=\u001b[0m\u001b[0mnp\u001b[0m\u001b[1;33m.\u001b[0m\u001b[0mintp\u001b[0m\u001b[1;33m)\u001b[0m  \u001b[1;31m# intp is indexing dtype\u001b[0m\u001b[1;33m\u001b[0m\u001b[1;33m\u001b[0m\u001b[0m\n\u001b[0m\u001b[0;32m     84\u001b[0m         \u001b[0msample\u001b[0m \u001b[1;33m=\u001b[0m \u001b[1;33m[\u001b[0m\u001b[0ma\u001b[0m\u001b[1;33m.\u001b[0m\u001b[0mtake\u001b[0m\u001b[1;33m(\u001b[0m\u001b[0mresampler\u001b[0m\u001b[1;33m,\u001b[0m \u001b[0maxis\u001b[0m\u001b[1;33m=\u001b[0m\u001b[1;36m0\u001b[0m\u001b[1;33m)\u001b[0m \u001b[1;32mfor\u001b[0m \u001b[0ma\u001b[0m \u001b[1;32min\u001b[0m \u001b[0margs\u001b[0m\u001b[1;33m]\u001b[0m\u001b[1;33m\u001b[0m\u001b[1;33m\u001b[0m\u001b[0m\n\u001b[0;32m     85\u001b[0m         \u001b[0mboot_dist\u001b[0m\u001b[1;33m.\u001b[0m\u001b[0mappend\u001b[0m\u001b[1;33m(\u001b[0m\u001b[0mf\u001b[0m\u001b[1;33m(\u001b[0m\u001b[1;33m*\u001b[0m\u001b[0msample\u001b[0m\u001b[1;33m,\u001b[0m \u001b[1;33m**\u001b[0m\u001b[0mfunc_kwargs\u001b[0m\u001b[1;33m)\u001b[0m\u001b[1;33m)\u001b[0m\u001b[1;33m\u001b[0m\u001b[1;33m\u001b[0m\u001b[0m\n",
      "\u001b[1;31mKeyboardInterrupt\u001b[0m: "
     ]
    },
    {
     "data": {
      "image/png": "[encoded data removed]",
      "text/plain": [
       "<Figure size 1152x360 with 3 Axes>"
      ]
     },
     "metadata": {},
     "output_type": "display_data"
    }
   ],
   "source": [
    "fig, ax = plt.subplots(1, 3, figsize=(16, 5))\n",
    "for i, column in enumerate(to_plot):\n",
    "    sns.barplot(x=\"star_rating\", y=column, data=review_text_lengths, ax=ax[i])\n",
    "\n",
    "fig.subplots_adjust(top=.9)\n",
    "fig.suptitle('Stats by Team')\n",
    "plt.show()"
   ]
  },
  {
   "cell_type": "code",
   "execution_count": 136,
   "id": "00e03846",
   "metadata": {},
   "outputs": [
    {
     "data": {
      "text/html": [
       "<div>\n",
       "<style scoped>\n",
       "    .dataframe tbody tr th:only-of-type {\n",
       "        vertical-align: middle;\n",
       "    }\n",
       "\n",
       "    .dataframe tbody tr th {\n",
       "        vertical-align: top;\n",
       "    }\n",
       "\n",
       "    .dataframe thead th {\n",
       "        text-align: right;\n",
       "    }\n",
       "</style>\n",
       "<table border=\"1\" class=\"dataframe\">\n",
       "  <thead>\n",
       "    <tr style=\"text-align: right;\">\n",
       "      <th></th>\n",
       "      <th>review_lengths</th>\n",
       "      <th>review_words</th>\n",
       "      <th>review_unique_words</th>\n",
       "      <th>star_rating</th>\n",
       "    </tr>\n",
       "  </thead>\n",
       "  <tbody>\n",
       "    <tr>\n",
       "      <th>review_lengths</th>\n",
       "      <td>1.000000</td>\n",
       "      <td>0.997449</td>\n",
       "      <td>0.953027</td>\n",
       "      <td>-0.050635</td>\n",
       "    </tr>\n",
       "    <tr>\n",
       "      <th>review_words</th>\n",
       "      <td>0.997449</td>\n",
       "      <td>1.000000</td>\n",
       "      <td>0.957815</td>\n",
       "      <td>-0.053185</td>\n",
       "    </tr>\n",
       "    <tr>\n",
       "      <th>review_unique_words</th>\n",
       "      <td>0.953027</td>\n",
       "      <td>0.957815</td>\n",
       "      <td>1.000000</td>\n",
       "      <td>-0.074715</td>\n",
       "    </tr>\n",
       "    <tr>\n",
       "      <th>star_rating</th>\n",
       "      <td>-0.050635</td>\n",
       "      <td>-0.053185</td>\n",
       "      <td>-0.074715</td>\n",
       "      <td>1.000000</td>\n",
       "    </tr>\n",
       "  </tbody>\n",
       "</table>\n",
       "</div>"
      ],
      "text/plain": [
       "                     review_lengths  review_words  review_unique_words  \\\n",
       "review_lengths             1.000000      0.997449             0.953027   \n",
       "review_words               0.997449      1.000000             0.957815   \n",
       "review_unique_words        0.953027      0.957815             1.000000   \n",
       "star_rating               -0.050635     -0.053185            -0.074715   \n",
       "\n",
       "                     star_rating  \n",
       "review_lengths         -0.050635  \n",
       "review_words           -0.053185  \n",
       "review_unique_words    -0.074715  \n",
       "star_rating             1.000000  "
      ]
     },
     "execution_count": 136,
     "metadata": {},
     "output_type": "execute_result"
    },
    {
     "data": {
      "image/png": "[encoded data removed]",
      "text/plain": [
       "<Figure size 648x648 with 2 Axes>"
      ]
     },
     "metadata": {},
     "output_type": "display_data"
    }
   ],
   "source": [
    "def plot_correlations(df: pd.DataFrame, xrot: Optional[int] = 70, yrot: Optional[int] = 0, \n",
    "                       label: Optional[str] = 'Variable'):\n",
    "    '''\n",
    "    This function accepts a pandas dataframe and returns a column heatmap\n",
    "    inputs:\n",
    "        df:\n",
    "        xrot:\n",
    "        yrot:\n",
    "        label:\n",
    "    '''\n",
    "    \n",
    "    correlations = df.corr()\n",
    "    \n",
    "    # exclude duplicate correlations by masking uper right values\n",
    "    mask = np.zeros_like(correlations, dtype=np.bool)\n",
    "    mask[np.triu_indices_from(mask)] = True\n",
    "    \n",
    "    # set background color / chart style\n",
    "    sns.set_style(style='dark')\n",
    "    fig, ax = plt.subplots(figsize=(9, 9))\n",
    "\n",
    "    # add colormap from blue to red\n",
    "    cmap = sns.color_palette('coolwarm', as_cmap=True)\n",
    "    # add titles\n",
    "    plt.title(\"Correlation Heat Map\")\n",
    "\n",
    "    # draw correlations\n",
    "    sns.heatmap(correlations, mask=mask, cmap=cmap,\n",
    "                square=True,\n",
    "                linewidth=.5, cbar_kws={\"shrink\": .8}, ax=ax)\n",
    "    \n",
    "    plt.xlabel(label)\n",
    "    plt.ylabel(label)\n",
    "    plt.xticks(rotation=xrot)\n",
    "    plt.yticks(rotation=yrot)\n",
    "    return correlations\n",
    "\n",
    "plot_correlations(review_text_lengths)"
   ]
  },
  {
   "cell_type": "code",
   "execution_count": 94,
   "id": "5f138db0",
   "metadata": {},
   "outputs": [
    {
     "data": {
      "image/png": "[encoded data removed]",
      "text/plain": [
       "<Figure size 648x432 with 1 Axes>"
      ]
     },
     "metadata": {},
     "output_type": "display_data"
    }
   ],
   "source": [
    "    \n",
    "    \n",
    "plt.figure(figsize=((9, 6)))\n",
    "lengths_ax = sns.histplot(x='review_unique_words', data=review_text_lengths, bins=100, kde=True)\n",
    "# hist_ax.set(xlabel='Rating', ylabel='Reviews')\n",
    "# hist_ax.set(title='Original Rating Distribution')\n",
    "# plt.tight_layout()\n",
    "\n",
    "# if not os.path.isfile('figures/ratings_distributions.jpg'):\n",
    "#     plt.savefig('figures/ratings_distributions.jpg')"
   ]
  },
  {
   "cell_type": "code",
   "execution_count": 50,
   "id": "9f065a3b",
   "metadata": {},
   "outputs": [
    {
     "data": {
      "text/plain": [
       "0                                              As described.\n",
       "1                                   It works as advertising.\n",
       "2                                                Works pissa\n",
       "3                                       Did not work at all.\n",
       "4          Works well. Bass is somewhat lacking but is pr...\n",
       "                                 ...                        \n",
       "3093864    Diamond's RIO is the current, silicon-state ni...\n",
       "3093865    The RIO rocks! It is so great that Diamond Mul...\n",
       "3093866    I have listened to practically every boombox a...\n",
       "3093867    compared to my old discman this one is really ...\n",
       "3093868    I love Christmas videos and music, but I usual...\n",
       "Name: review_body, Length: 3093869, dtype: object"
      ]
     },
     "execution_count": 50,
     "metadata": {},
     "output_type": "execute_result"
    }
   ],
   "source": [
    "df['review_body']"
   ]
  },
  {
   "cell_type": "code",
   "execution_count": 55,
   "id": "9226ce92",
   "metadata": {},
   "outputs": [
    {
     "data": {
      "text/plain": [
       "review_body    3093869\n",
       "dtype: int64"
      ]
     },
     "execution_count": 55,
     "metadata": {},
     "output_type": "execute_result"
    }
   ],
   "source": [
    "review_lengths"
   ]
  },
  {
   "cell_type": "code",
   "execution_count": 57,
   "id": "0141145e",
   "metadata": {},
   "outputs": [
    {
     "data": {
      "text/plain": [
       "6"
      ]
     },
     "execution_count": 57,
     "metadata": {},
     "output_type": "execute_result"
    }
   ],
   "source": [
    "len('string')"
   ]
  },
  {
   "cell_type": "code",
   "execution_count": 85,
   "id": "594e3651",
   "metadata": {},
   "outputs": [
    {
     "data": {
      "text/html": [
       "<div>\n",
       "<style scoped>\n",
       "    .dataframe tbody tr th:only-of-type {\n",
       "        vertical-align: middle;\n",
       "    }\n",
       "\n",
       "    .dataframe tbody tr th {\n",
       "        vertical-align: top;\n",
       "    }\n",
       "\n",
       "    .dataframe thead th {\n",
       "        text-align: right;\n",
       "    }\n",
       "</style>\n",
       "<table border=\"1\" class=\"dataframe\">\n",
       "  <thead>\n",
       "    <tr style=\"text-align: right;\">\n",
       "      <th></th>\n",
       "      <th>review_lengths</th>\n",
       "      <th>review_words</th>\n",
       "      <th>review_unique_words</th>\n",
       "    </tr>\n",
       "  </thead>\n",
       "  <tbody>\n",
       "    <tr>\n",
       "      <th>0</th>\n",
       "      <td>13</td>\n",
       "      <td>2</td>\n",
       "      <td>2</td>\n",
       "    </tr>\n",
       "    <tr>\n",
       "      <th>1</th>\n",
       "      <td>24</td>\n",
       "      <td>4</td>\n",
       "      <td>4</td>\n",
       "    </tr>\n",
       "    <tr>\n",
       "      <th>2</th>\n",
       "      <td>11</td>\n",
       "      <td>2</td>\n",
       "      <td>2</td>\n",
       "    </tr>\n",
       "    <tr>\n",
       "      <th>3</th>\n",
       "      <td>20</td>\n",
       "      <td>5</td>\n",
       "      <td>5</td>\n",
       "    </tr>\n",
       "    <tr>\n",
       "      <th>4</th>\n",
       "      <td>83</td>\n",
       "      <td>14</td>\n",
       "      <td>13</td>\n",
       "    </tr>\n",
       "    <tr>\n",
       "      <th>...</th>\n",
       "      <td>...</td>\n",
       "      <td>...</td>\n",
       "      <td>...</td>\n",
       "    </tr>\n",
       "    <tr>\n",
       "      <th>3093864</th>\n",
       "      <td>929</td>\n",
       "      <td>141</td>\n",
       "      <td>96</td>\n",
       "    </tr>\n",
       "    <tr>\n",
       "      <th>3093865</th>\n",
       "      <td>507</td>\n",
       "      <td>93</td>\n",
       "      <td>73</td>\n",
       "    </tr>\n",
       "    <tr>\n",
       "      <th>3093866</th>\n",
       "      <td>617</td>\n",
       "      <td>110</td>\n",
       "      <td>80</td>\n",
       "    </tr>\n",
       "    <tr>\n",
       "      <th>3093867</th>\n",
       "      <td>113</td>\n",
       "      <td>21</td>\n",
       "      <td>17</td>\n",
       "    </tr>\n",
       "    <tr>\n",
       "      <th>3093868</th>\n",
       "      <td>250</td>\n",
       "      <td>42</td>\n",
       "      <td>39</td>\n",
       "    </tr>\n",
       "  </tbody>\n",
       "</table>\n",
       "<p>3093869 rows × 3 columns</p>\n",
       "</div>"
      ],
      "text/plain": [
       "         review_lengths  review_words  review_unique_words\n",
       "0                    13             2                    2\n",
       "1                    24             4                    4\n",
       "2                    11             2                    2\n",
       "3                    20             5                    5\n",
       "4                    83            14                   13\n",
       "...                 ...           ...                  ...\n",
       "3093864             929           141                   96\n",
       "3093865             507            93                   73\n",
       "3093866             617           110                   80\n",
       "3093867             113            21                   17\n",
       "3093868             250            42                   39\n",
       "\n",
       "[3093869 rows x 3 columns]"
      ]
     },
     "execution_count": 85,
     "metadata": {},
     "output_type": "execute_result"
    }
   ],
   "source": [
    "review_text_lengths"
   ]
  },
  {
   "cell_type": "code",
   "execution_count": 87,
   "id": "e8283ea5",
   "metadata": {},
   "outputs": [],
   "source": [
    "import nltk\n",
    "from nltk.corpus import stopwords"
   ]
  },
  {
   "cell_type": "code",
   "execution_count": 91,
   "id": "96908892",
   "metadata": {},
   "outputs": [
    {
     "data": {
      "text/plain": [
       "['i',\n",
       " 'me',\n",
       " 'my',\n",
       " 'myself',\n",
       " 'we',\n",
       " 'our',\n",
       " 'ours',\n",
       " 'ourselves',\n",
       " 'you',\n",
       " \"you're\",\n",
       " \"you've\",\n",
       " \"you'll\",\n",
       " \"you'd\",\n",
       " 'your',\n",
       " 'yours',\n",
       " 'yourself',\n",
       " 'yourselves',\n",
       " 'he',\n",
       " 'him',\n",
       " 'his',\n",
       " 'himself',\n",
       " 'she',\n",
       " \"she's\",\n",
       " 'her',\n",
       " 'hers',\n",
       " 'herself',\n",
       " 'it',\n",
       " \"it's\",\n",
       " 'its',\n",
       " 'itself',\n",
       " 'they',\n",
       " 'them',\n",
       " 'their',\n",
       " 'theirs',\n",
       " 'themselves',\n",
       " 'what',\n",
       " 'which',\n",
       " 'who',\n",
       " 'whom',\n",
       " 'this',\n",
       " 'that',\n",
       " \"that'll\",\n",
       " 'these',\n",
       " 'those',\n",
       " 'am',\n",
       " 'is',\n",
       " 'are',\n",
       " 'was',\n",
       " 'were',\n",
       " 'be',\n",
       " 'been',\n",
       " 'being',\n",
       " 'have',\n",
       " 'has',\n",
       " 'had',\n",
       " 'having',\n",
       " 'do',\n",
       " 'does',\n",
       " 'did',\n",
       " 'doing',\n",
       " 'a',\n",
       " 'an',\n",
       " 'the',\n",
       " 'and',\n",
       " 'but',\n",
       " 'if',\n",
       " 'or',\n",
       " 'because',\n",
       " 'as',\n",
       " 'until',\n",
       " 'while',\n",
       " 'of',\n",
       " 'at',\n",
       " 'by',\n",
       " 'for',\n",
       " 'with',\n",
       " 'about',\n",
       " 'against',\n",
       " 'between',\n",
       " 'into',\n",
       " 'through',\n",
       " 'during',\n",
       " 'before',\n",
       " 'after',\n",
       " 'above',\n",
       " 'below',\n",
       " 'to',\n",
       " 'from',\n",
       " 'up',\n",
       " 'down',\n",
       " 'in',\n",
       " 'out',\n",
       " 'on',\n",
       " 'off',\n",
       " 'over',\n",
       " 'under',\n",
       " 'again',\n",
       " 'further',\n",
       " 'then',\n",
       " 'once',\n",
       " 'here',\n",
       " 'there',\n",
       " 'when',\n",
       " 'where',\n",
       " 'why',\n",
       " 'how',\n",
       " 'all',\n",
       " 'any',\n",
       " 'both',\n",
       " 'each',\n",
       " 'few',\n",
       " 'more',\n",
       " 'most',\n",
       " 'other',\n",
       " 'some',\n",
       " 'such',\n",
       " 'no',\n",
       " 'nor',\n",
       " 'not',\n",
       " 'only',\n",
       " 'own',\n",
       " 'same',\n",
       " 'so',\n",
       " 'than',\n",
       " 'too',\n",
       " 'very',\n",
       " 's',\n",
       " 't',\n",
       " 'can',\n",
       " 'will',\n",
       " 'just',\n",
       " 'don',\n",
       " \"don't\",\n",
       " 'should',\n",
       " \"should've\",\n",
       " 'now',\n",
       " 'd',\n",
       " 'll',\n",
       " 'm',\n",
       " 'o',\n",
       " 're',\n",
       " 've',\n",
       " 'y',\n",
       " 'ain',\n",
       " 'aren',\n",
       " \"aren't\",\n",
       " 'couldn',\n",
       " \"couldn't\",\n",
       " 'didn',\n",
       " \"didn't\",\n",
       " 'doesn',\n",
       " \"doesn't\",\n",
       " 'hadn',\n",
       " \"hadn't\",\n",
       " 'hasn',\n",
       " \"hasn't\",\n",
       " 'haven',\n",
       " \"haven't\",\n",
       " 'isn',\n",
       " \"isn't\",\n",
       " 'ma',\n",
       " 'mightn',\n",
       " \"mightn't\",\n",
       " 'mustn',\n",
       " \"mustn't\",\n",
       " 'needn',\n",
       " \"needn't\",\n",
       " 'shan',\n",
       " \"shan't\",\n",
       " 'shouldn',\n",
       " \"shouldn't\",\n",
       " 'wasn',\n",
       " \"wasn't\",\n",
       " 'weren',\n",
       " \"weren't\",\n",
       " 'won',\n",
       " \"won't\",\n",
       " 'wouldn',\n",
       " \"wouldn't\"]"
      ]
     },
     "execution_count": 91,
     "metadata": {},
     "output_type": "execute_result"
    }
   ],
   "source": [
    "stopwords.words('english')"
   ]
  },
  {
   "cell_type": "code",
   "execution_count": null,
   "id": "fcdcdbfd",
   "metadata": {},
   "outputs": [],
   "source": []
  }
 ],
 "metadata": {
  "kernelspec": {
   "display_name": "Python 3",
   "language": "python",
   "name": "python3"
  },
  "language_info": {
   "codemirror_mode": {
    "name": "ipython",
    "version": 3
   },
   "file_extension": ".py",
   "mimetype": "text/x-python",
   "name": "python",
   "nbconvert_exporter": "python",
   "pygments_lexer": "ipython3",
   "version": "3.7.4"
  }
 },
 "nbformat": 4,
 "nbformat_minor": 5
}
