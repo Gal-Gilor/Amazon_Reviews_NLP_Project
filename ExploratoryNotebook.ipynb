{
 "cells": [
  {
   "cell_type": "markdown",
   "id": "4c636a22",
   "metadata": {},
   "source": [
    "# Amazon Reviews\n",
    "\n",
    "[Readme](https://s3.amazonaws.com/amazon-reviews-pds/readme.html) \\\n",
    "[Index](https://s3.amazonaws.com/amazon-reviews-pds/tsv/index.txt)\n",
    "\n",
    "\n",
    "## Column Descriptions\n",
    "\n",
    "* marketplace       - 2 letter country code of the marketplace where the review was written.\n",
    "* customer_id       - Random identifier that can be used to aggregate reviews written by a single author.\n",
    "* review_id         - The unique ID of the review.\n",
    "* product_id        - The unique Product ID the review pertains to. In the multilingual dataset the reviews for the same product in different countries can be grouped by the same product_id.\n",
    "* product_parent    - Random identifier that can be used to aggregate reviews for the same product.\n",
    "* product_title     - Title of the product.\n",
    "* product_category  - Broad product category that can be used to group reviews (also used to group the dataset into coherent parts).\n",
    "* star_rating       - The 1-5 star rating of the review.\n",
    "* helpful_votes     - Number of helpful votes.\n",
    "* total_votes       - Number of total votes the review received.\n",
    "* vine              - Review was written as part of the Vine program.\n",
    "* verified_purchase - The review is on a verified purchase.\n",
    "* review_headline   - The title of the review.\n",
    "* review_body       - The review text.\n",
    "* review_date       - The date the review was written.\n"
   ]
  },
  {
   "cell_type": "code",
   "execution_count": 1,
   "id": "0617801a",
   "metadata": {},
   "outputs": [],
   "source": [
    "import pandas as pd\n",
    "import gzip\n",
    "import os\n",
    "import numpy as np\n",
    "\n",
    "from typing import Dict, Optional, List, Union"
   ]
  },
  {
   "cell_type": "markdown",
   "id": "78ade35e",
   "metadata": {},
   "source": [
    "### Download, Parse and Load Dataset"
   ]
  },
  {
   "cell_type": "code",
   "execution_count": 2,
   "id": "e8865dee",
   "metadata": {
    "scrolled": true
   },
   "outputs": [],
   "source": [
    "def parse_gz(path: str):\n",
    "    '''\n",
    "    Open GZ file and decode bytes to strings\n",
    "    inputs:\n",
    "        path: string, path to the .gz file\n",
    "    '''\n",
    "    g = gzip.open(path, 'rb')\n",
    "    for l in g:\n",
    "        l = l.decode(\"utf-8\") \n",
    "        yield l\n",
    "        \n",
    "def read_reviews(path: str):\n",
    "    '''\n",
    "    Read Amazon's product reviews file and return a pandas DataFrame\n",
    "    inputs:\n",
    "        path: string, path to the .tsv.gz file\n",
    "    '''\n",
    "    data = []\n",
    "    for i, line in enumerate(parse_gz(path)):\n",
    "        \n",
    "        line = line.split('\\t') # separate the tab separated line\n",
    "        line[-1] = line[-1].strip() # remove trailing new lines\n",
    "        data.append(line)\n",
    "        \n",
    "    columns = data.pop(0)\n",
    "    return pd.DataFrame.from_records(data, columns=columns)\n",
    "\n",
    "def download_reviews(url: str, location: str, filename: Optional[str] = 'reviews.gz'):\n",
    "    '''\n",
    "    Downloads an S3 tsv.gz file and unzips it locally\n",
    "    inputs:\n",
    "        ur:\n",
    "        location:\n",
    "        filename:\n",
    "    '''\n",
    "    \n",
    "    # create new directory to store the product reviews\n",
    "    try:\n",
    "        os.makedirs(location)\n",
    "        print('Successfully created new directory')\n",
    "        \n",
    "        print('Starting to download the dataset...')\n",
    "        path = os.path.join(location, filename) # create the full path to store the download\n",
    "        urllib.request.urlretrieve(url, path) \n",
    "        print('Download completed.')\n",
    "\n",
    "        print('Parsing and converting the GZip file as a pandas DataFrame. This may take awhile...')\n",
    "        df = read_reviews(path)\n",
    "        print('Successfully created a new DataFrame containing Amazon product reviews.')\n",
    "\n",
    "        save_csv = input('Would you like to save this DataFrame as a CSV to avoid having to parse the file again? Type yes proceed\\n')\n",
    "\n",
    "        if save_csv.lower() == 'yes':\n",
    "            save_as = input('How would you like to name the DataFrame?\\n')\n",
    "            path = f'{location}/{save_as}'\n",
    "            df.to_csv(path, index=False)\n",
    "            print(f'Successfully saved {path}')\n",
    "    \n",
    "    except FileExistsError:\n",
    "        print(f'Directory already exists')\n",
    "        \n",
    "    pass"
   ]
  },
  {
   "cell_type": "code",
   "execution_count": 6,
   "id": "af69e095",
   "metadata": {},
   "outputs": [
    {
     "name": "stdout",
     "output_type": "stream",
     "text": [
      "Directory already exists\n",
      "Starting to download the dataset\n",
      "Download completed\n",
      "Parsing and converting the GZip file as a pandas DataFrame. This may take awhile...\n",
      "Successfully created a new DataFrame containing Amazon product reviews\n",
      "Would you like to save this DataFrame as a CSV to avoid having to parse the file again? Type yes proceed\n",
      "yes\n",
      "How would you like to name the DataFrame?\n",
      "reviews.csv\n",
      "Successfully saved reviews/raw/reviews.csv\n",
      "Wall time: 7min 31s\n"
     ]
    }
   ],
   "source": [
    "%%time\n",
    "\n",
    "url = 'https://s3.amazonaws.com/amazon-reviews-pds/tsv/amazon_reviews_us_Electronics_v1_00.tsv.gz'\n",
    "location = 'reviews/raw'\n",
    "filename = 'reviews.gz'\n",
    "\n",
    "# download the reviews\n",
    "download_reviews(url, location, filename)"
   ]
  },
  {
   "cell_type": "code",
   "execution_count": 123,
   "id": "d4f84946",
   "metadata": {},
   "outputs": [],
   "source": [
    "import matplotlib.pyplot as plt\n",
    "import seaborn as sns\n",
    "from scipy import stats\n",
    "\n",
    "%matplotlib inline\n",
    "plt.style.use('seaborn-dark')"
   ]
  },
  {
   "cell_type": "code",
   "execution_count": 4,
   "id": "a416a5ed",
   "metadata": {},
   "outputs": [],
   "source": [
    "# load review text and ratings\n",
    "csv_location = 'reviews/raw/reviews.csv'\n",
    "columns = ['review_headline', 'review_body', 'star_rating']\n",
    "\n",
    "try:\n",
    "    df = pd.read_csv(csv_location, usecols=columns)\n",
    "\n",
    "except FileExistsError:\n",
    "    df, _ = download_reviews(url, location, filename)\n",
    "    \n",
    "try:\n",
    "    os.makedirs('figures')\n",
    "except:\n",
    "    pass"
   ]
  },
  {
   "cell_type": "code",
   "execution_count": 5,
   "id": "04de1af1",
   "metadata": {},
   "outputs": [
    {
     "data": {
      "text/html": [
       "<div>\n",
       "<style scoped>\n",
       "    .dataframe tbody tr th:only-of-type {\n",
       "        vertical-align: middle;\n",
       "    }\n",
       "\n",
       "    .dataframe tbody tr th {\n",
       "        vertical-align: top;\n",
       "    }\n",
       "\n",
       "    .dataframe thead th {\n",
       "        text-align: right;\n",
       "    }\n",
       "</style>\n",
       "<table border=\"1\" class=\"dataframe\">\n",
       "  <thead>\n",
       "    <tr style=\"text-align: right;\">\n",
       "      <th></th>\n",
       "      <th>star_rating</th>\n",
       "      <th>review_headline</th>\n",
       "      <th>review_body</th>\n",
       "    </tr>\n",
       "  </thead>\n",
       "  <tbody>\n",
       "    <tr>\n",
       "      <th>0</th>\n",
       "      <td>5</td>\n",
       "      <td>Five Stars</td>\n",
       "      <td>As described.</td>\n",
       "    </tr>\n",
       "    <tr>\n",
       "      <th>1</th>\n",
       "      <td>5</td>\n",
       "      <td>It works as advertising.</td>\n",
       "      <td>It works as advertising.</td>\n",
       "    </tr>\n",
       "    <tr>\n",
       "      <th>2</th>\n",
       "      <td>5</td>\n",
       "      <td>Five Stars</td>\n",
       "      <td>Works pissa</td>\n",
       "    </tr>\n",
       "    <tr>\n",
       "      <th>3</th>\n",
       "      <td>1</td>\n",
       "      <td>One Star</td>\n",
       "      <td>Did not work at all.</td>\n",
       "    </tr>\n",
       "    <tr>\n",
       "      <th>4</th>\n",
       "      <td>5</td>\n",
       "      <td>Overall pleased with the item</td>\n",
       "      <td>Works well. Bass is somewhat lacking but is pr...</td>\n",
       "    </tr>\n",
       "    <tr>\n",
       "      <th>5</th>\n",
       "      <td>5</td>\n",
       "      <td>Five Stars</td>\n",
       "      <td>The quality on these speakers is insanely good...</td>\n",
       "    </tr>\n",
       "    <tr>\n",
       "      <th>6</th>\n",
       "      <td>5</td>\n",
       "      <td>Lifesaver</td>\n",
       "      <td>Wish I could give this product more than five ...</td>\n",
       "    </tr>\n",
       "    <tr>\n",
       "      <th>7</th>\n",
       "      <td>5</td>\n",
       "      <td>Five Stars</td>\n",
       "      <td>works great</td>\n",
       "    </tr>\n",
       "    <tr>\n",
       "      <th>8</th>\n",
       "      <td>4</td>\n",
       "      <td>Four Stars</td>\n",
       "      <td>Great sound and compact. Battery life seems go...</td>\n",
       "    </tr>\n",
       "    <tr>\n",
       "      <th>9</th>\n",
       "      <td>4</td>\n",
       "      <td>Four Stars</td>\n",
       "      <td>It works well~~~</td>\n",
       "    </tr>\n",
       "  </tbody>\n",
       "</table>\n",
       "</div>"
      ],
      "text/plain": [
       "   star_rating                review_headline  \\\n",
       "0            5                     Five Stars   \n",
       "1            5       It works as advertising.   \n",
       "2            5                     Five Stars   \n",
       "3            1                       One Star   \n",
       "4            5  Overall pleased with the item   \n",
       "5            5                     Five Stars   \n",
       "6            5                      Lifesaver   \n",
       "7            5                     Five Stars   \n",
       "8            4                     Four Stars   \n",
       "9            4                     Four Stars   \n",
       "\n",
       "                                         review_body  \n",
       "0                                      As described.  \n",
       "1                           It works as advertising.  \n",
       "2                                        Works pissa  \n",
       "3                               Did not work at all.  \n",
       "4  Works well. Bass is somewhat lacking but is pr...  \n",
       "5  The quality on these speakers is insanely good...  \n",
       "6  Wish I could give this product more than five ...  \n",
       "7                                        works great  \n",
       "8  Great sound and compact. Battery life seems go...  \n",
       "9                                   It works well~~~  "
      ]
     },
     "execution_count": 5,
     "metadata": {},
     "output_type": "execute_result"
    }
   ],
   "source": [
    "df.head(10)"
   ]
  },
  {
   "cell_type": "code",
   "execution_count": 6,
   "id": "9ad41c40",
   "metadata": {},
   "outputs": [
    {
     "data": {
      "text/plain": [
       "\"The quality on these speakers is insanely good and doesn't sound muddy when adjusting bass. Very happy with these.\""
      ]
     },
     "execution_count": 6,
     "metadata": {},
     "output_type": "execute_result"
    }
   ],
   "source": [
    "df['review_body'][5]"
   ]
  },
  {
   "cell_type": "code",
   "execution_count": 7,
   "id": "11c5bfce",
   "metadata": {},
   "outputs": [
    {
     "name": "stdout",
     "output_type": "stream",
     "text": [
      "<class 'pandas.core.frame.DataFrame'>\n",
      "RangeIndex: 3093869 entries, 0 to 3093868\n",
      "Data columns (total 3 columns):\n",
      " #   Column           Dtype \n",
      "---  ------           ----- \n",
      " 0   star_rating      int64 \n",
      " 1   review_headline  object\n",
      " 2   review_body      object\n",
      "dtypes: int64(1), object(2)\n",
      "memory usage: 70.8+ MB\n"
     ]
    }
   ],
   "source": [
    "df.info()"
   ]
  },
  {
   "cell_type": "code",
   "execution_count": 9,
   "id": "b137dac6",
   "metadata": {},
   "outputs": [
    {
     "name": "stdout",
     "output_type": "stream",
     "text": [
      "<class 'pandas.core.frame.DataFrame'>\n",
      "RangeIndex: 3093869 entries, 0 to 3093868\n",
      "Data columns (total 3 columns):\n",
      " #   Column           Dtype \n",
      "---  ------           ----- \n",
      " 0   star_rating      int8  \n",
      " 1   review_headline  object\n",
      " 2   review_body      object\n",
      "dtypes: int8(1), object(2)\n",
      "memory usage: 50.2+ MB\n"
     ]
    }
   ],
   "source": [
    "# star rating is an integer between 1 and 5 -> int8 would suffice\n",
    "df['star_rating'] = df['star_rating'].astype('int8')\n",
    "\n",
    "# make sure the other columns are strings\n",
    "df['review_headline'] = df['review_headline'].apply(lambda x: str(x))\n",
    "df['review_body']= df['review_body'].apply(lambda x: str(x))\n",
    "\n",
    "df.info()"
   ]
  },
  {
   "cell_type": "code",
   "execution_count": 10,
   "id": "67550c8e",
   "metadata": {},
   "outputs": [
    {
     "data": {
      "image/png": "[encoded data removed]",
      "text/plain": [
       "<Figure size 648x432 with 1 Axes>"
      ]
     },
     "metadata": {},
     "output_type": "display_data"
    }
   ],
   "source": [
    "# check the rating distribution\n",
    "plt.figure(figsize=((9, 6)))\n",
    "hist_ax = sns.countplot(x='star_rating', data=df)\n",
    "hist_ax.set(xlabel='Rating', ylabel='Reviews')\n",
    "hist_ax.set(title='Original Rating Distribution')\n",
    "plt.tight_layout()\n",
    "\n",
    "if not os.path.isfile('figures/ratings_distributions.jpg'):\n",
    "    plt.savefig('figures/ratings_distributions.jpg')"
   ]
  },
  {
   "cell_type": "code",
   "execution_count": 68,
   "id": "b00feb31",
   "metadata": {},
   "outputs": [
    {
     "name": "stdout",
     "output_type": "stream",
     "text": [
      "Wall time: 2min 2s\n"
     ]
    },
    {
     "data": {
      "text/html": [
       "<div>\n",
       "<style scoped>\n",
       "    .dataframe tbody tr th:only-of-type {\n",
       "        vertical-align: middle;\n",
       "    }\n",
       "\n",
       "    .dataframe tbody tr th {\n",
       "        vertical-align: top;\n",
       "    }\n",
       "\n",
       "    .dataframe thead th {\n",
       "        text-align: right;\n",
       "    }\n",
       "</style>\n",
       "<table border=\"1\" class=\"dataframe\">\n",
       "  <thead>\n",
       "    <tr style=\"text-align: right;\">\n",
       "      <th></th>\n",
       "      <th>count</th>\n",
       "      <th>mean</th>\n",
       "      <th>std</th>\n",
       "      <th>min</th>\n",
       "      <th>25%</th>\n",
       "      <th>50%</th>\n",
       "      <th>75%</th>\n",
       "      <th>max</th>\n",
       "    </tr>\n",
       "  </thead>\n",
       "  <tbody>\n",
       "    <tr>\n",
       "      <th>review_lengths</th>\n",
       "      <td>3093869.0</td>\n",
       "      <td>375.269285</td>\n",
       "      <td>645.558257</td>\n",
       "      <td>1.0</td>\n",
       "      <td>102.0</td>\n",
       "      <td>189.0</td>\n",
       "      <td>416.0</td>\n",
       "      <td>50610.0</td>\n",
       "    </tr>\n",
       "    <tr>\n",
       "      <th>review_words</th>\n",
       "      <td>3093869.0</td>\n",
       "      <td>70.664756</td>\n",
       "      <td>118.613868</td>\n",
       "      <td>1.0</td>\n",
       "      <td>20.0</td>\n",
       "      <td>36.0</td>\n",
       "      <td>79.0</td>\n",
       "      <td>8543.0</td>\n",
       "    </tr>\n",
       "    <tr>\n",
       "      <th>review_unique_words</th>\n",
       "      <td>3093869.0</td>\n",
       "      <td>49.265280</td>\n",
       "      <td>57.229341</td>\n",
       "      <td>1.0</td>\n",
       "      <td>18.0</td>\n",
       "      <td>31.0</td>\n",
       "      <td>61.0</td>\n",
       "      <td>2201.0</td>\n",
       "    </tr>\n",
       "    <tr>\n",
       "      <th>star_rating</th>\n",
       "      <td>3093869.0</td>\n",
       "      <td>4.035507</td>\n",
       "      <td>1.387438</td>\n",
       "      <td>1.0</td>\n",
       "      <td>3.0</td>\n",
       "      <td>5.0</td>\n",
       "      <td>5.0</td>\n",
       "      <td>5.0</td>\n",
       "    </tr>\n",
       "  </tbody>\n",
       "</table>\n",
       "</div>"
      ],
      "text/plain": [
       "                         count        mean         std  min    25%    50%  \\\n",
       "review_lengths       3093869.0  375.269285  645.558257  1.0  102.0  189.0   \n",
       "review_words         3093869.0   70.664756  118.613868  1.0   20.0   36.0   \n",
       "review_unique_words  3093869.0   49.265280   57.229341  1.0   18.0   31.0   \n",
       "star_rating          3093869.0    4.035507    1.387438  1.0    3.0    5.0   \n",
       "\n",
       "                       75%      max  \n",
       "review_lengths       416.0  50610.0  \n",
       "review_words          79.0   8543.0  \n",
       "review_unique_words   61.0   2201.0  \n",
       "star_rating            5.0      5.0  "
      ]
     },
     "execution_count": 68,
     "metadata": {},
     "output_type": "execute_result"
    }
   ],
   "source": [
    "%%time\n",
    "\n",
    "to_plot = ['review_lengths', 'review_words', 'review_unique_words']\n",
    "review_lengths = df['review_body'].apply(lambda x: len(x)) # count the number of characters\n",
    "review_words = df['review_body'].apply(lambda x: len(x.split(' '))) # count then number of words\n",
    "review_unique_words = df['review_body'].apply(lambda x: len(set(x.split(' ')))) # count the number of unique words\n",
    "\n",
    "review_text_lengths = pd.DataFrame({\n",
    "    'review_lengths': review_lengths,\n",
    "    'review_words': review_words,\n",
    "    'review_unique_words': review_unique_words,\n",
    "    'star_rating': df['star_rating'].copy(deep=True)\n",
    "})\n",
    "\n",
    "# display some descriptive statistics\n",
    "review_text_lengths.describe().T"
   ]
  },
  {
   "cell_type": "code",
   "execution_count": 69,
   "id": "3c9668c3",
   "metadata": {},
   "outputs": [
    {
     "name": "stdout",
     "output_type": "stream",
     "text": [
      "<class 'pandas.core.frame.DataFrame'>\n",
      "RangeIndex: 3093869 entries, 0 to 3093868\n",
      "Data columns (total 4 columns):\n",
      " #   Column               Dtype\n",
      "---  ------               -----\n",
      " 0   review_lengths       int32\n",
      " 1   review_words         int16\n",
      " 2   review_unique_words  int16\n",
      " 3   star_rating          int8 \n",
      "dtypes: int16(2), int32(1), int8(1)\n",
      "memory usage: 26.6 MB\n"
     ]
    }
   ],
   "source": [
    "# optimize memory usage\n",
    "review_text_lengths = review_text_lengths.apply(lambda x: pd.to_numeric(x, downcast=\"integer\")) \n",
    "review_text_lengths.info()"
   ]
  },
  {
   "cell_type": "code",
   "execution_count": 70,
   "id": "a8d7647b",
   "metadata": {},
   "outputs": [
    {
     "data": {
      "image/png": "[encoded data removed]",
      "text/plain": [
       "<Figure size 576x432 with 1 Axes>"
      ]
     },
     "metadata": {},
     "output_type": "display_data"
    }
   ],
   "source": [
    "# identify the how long the reviews are\n",
    "fig = plt.figure(figsize=(8, 6))\n",
    "sns.histplot(x='review_lengths', data=review_text_lengths, kde=True, bins=125)\n",
    "plt.title('Review Lengths Histogram')\n",
    "plt.show()"
   ]
  },
  {
   "cell_type": "code",
   "execution_count": 152,
   "id": "254ba6f4",
   "metadata": {},
   "outputs": [],
   "source": [
    "# most of the reviews are short.\n",
    "# removing reviews that are longer than 1500 characters (about half a page) amnd shorter than 10 \n",
    "long_reviews_text = review_text_lengths.loc[review_text_lengths['review_lengths'] > 1.5e3]\n",
    "regular_reviews_text = review_text_lengths.loc[review_text_lengths['review_lengths'] <= 1.5e3] \n",
    "regular_reviews_text = regular_reviews_text[regular_reviews_text['review_lengths'] > 10] "
   ]
  },
  {
   "cell_type": "code",
   "execution_count": 72,
   "id": "ca5fbdfe",
   "metadata": {},
   "outputs": [
    {
     "data": {
      "image/png": "[encoded data removed]",
      "text/plain": [
       "<Figure size 648x432 with 1 Axes>"
      ]
     },
     "metadata": {},
     "output_type": "display_data"
    }
   ],
   "source": [
    "# check the distribution of ratings among verbous reviews\n",
    "plt.figure(figsize=((9, 6)))\n",
    "ax = sns.countplot(x='star_rating', data=long_reviews_text)\n",
    "ax.set(xlabel='Rating', ylabel='Review Length')\n",
    "ax.set(title='Long Review Rating Distribution')\n",
    "plt.show()"
   ]
  },
  {
   "cell_type": "code",
   "execution_count": 73,
   "id": "11649f0c",
   "metadata": {},
   "outputs": [
    {
     "data": {
      "text/html": [
       "<div>\n",
       "<style scoped>\n",
       "    .dataframe tbody tr th:only-of-type {\n",
       "        vertical-align: middle;\n",
       "    }\n",
       "\n",
       "    .dataframe tbody tr th {\n",
       "        vertical-align: top;\n",
       "    }\n",
       "\n",
       "    .dataframe thead th {\n",
       "        text-align: right;\n",
       "    }\n",
       "</style>\n",
       "<table border=\"1\" class=\"dataframe\">\n",
       "  <thead>\n",
       "    <tr style=\"text-align: right;\">\n",
       "      <th></th>\n",
       "      <th>count</th>\n",
       "      <th>mean</th>\n",
       "      <th>std</th>\n",
       "      <th>min</th>\n",
       "      <th>25%</th>\n",
       "      <th>50%</th>\n",
       "      <th>75%</th>\n",
       "      <th>max</th>\n",
       "    </tr>\n",
       "  </thead>\n",
       "  <tbody>\n",
       "    <tr>\n",
       "      <th>review_lengths</th>\n",
       "      <td>115558.0</td>\n",
       "      <td>2715.984493</td>\n",
       "      <td>1819.914129</td>\n",
       "      <td>1501.0</td>\n",
       "      <td>1739.0</td>\n",
       "      <td>2117.0</td>\n",
       "      <td>3016.0</td>\n",
       "      <td>50610.0</td>\n",
       "    </tr>\n",
       "    <tr>\n",
       "      <th>review_words</th>\n",
       "      <td>115558.0</td>\n",
       "      <td>501.819943</td>\n",
       "      <td>326.455428</td>\n",
       "      <td>24.0</td>\n",
       "      <td>325.0</td>\n",
       "      <td>395.0</td>\n",
       "      <td>560.0</td>\n",
       "      <td>8543.0</td>\n",
       "    </tr>\n",
       "    <tr>\n",
       "      <th>review_unique_words</th>\n",
       "      <td>115558.0</td>\n",
       "      <td>256.837000</td>\n",
       "      <td>102.659468</td>\n",
       "      <td>2.0</td>\n",
       "      <td>194.0</td>\n",
       "      <td>225.0</td>\n",
       "      <td>285.0</td>\n",
       "      <td>2201.0</td>\n",
       "    </tr>\n",
       "    <tr>\n",
       "      <th>star_rating</th>\n",
       "      <td>115558.0</td>\n",
       "      <td>3.952085</td>\n",
       "      <td>1.270238</td>\n",
       "      <td>1.0</td>\n",
       "      <td>3.0</td>\n",
       "      <td>4.0</td>\n",
       "      <td>5.0</td>\n",
       "      <td>5.0</td>\n",
       "    </tr>\n",
       "  </tbody>\n",
       "</table>\n",
       "</div>"
      ],
      "text/plain": [
       "                        count         mean          std     min     25%  \\\n",
       "review_lengths       115558.0  2715.984493  1819.914129  1501.0  1739.0   \n",
       "review_words         115558.0   501.819943   326.455428    24.0   325.0   \n",
       "review_unique_words  115558.0   256.837000   102.659468     2.0   194.0   \n",
       "star_rating          115558.0     3.952085     1.270238     1.0     3.0   \n",
       "\n",
       "                        50%     75%      max  \n",
       "review_lengths       2117.0  3016.0  50610.0  \n",
       "review_words          395.0   560.0   8543.0  \n",
       "review_unique_words   225.0   285.0   2201.0  \n",
       "star_rating             4.0     5.0      5.0  "
      ]
     },
     "execution_count": 73,
     "metadata": {},
     "output_type": "execute_result"
    }
   ],
   "source": [
    "long_reviews_text.describe().T"
   ]
  },
  {
   "cell_type": "code",
   "execution_count": 156,
   "id": "948719e8",
   "metadata": {},
   "outputs": [
    {
     "data": {
      "image/png": "[encoded data removed]",
      "text/plain": [
       "<Figure size 936x432 with 2 Axes>"
      ]
     },
     "metadata": {},
     "output_type": "display_data"
    }
   ],
   "source": [
    "# check the distribution of ratings among remaining reviews\n",
    "fig, ax = plt.subplots(1, 2, figsize=(13, 6))\n",
    "\n",
    "# boxplots\n",
    "columns_to_melt = ['review_lengths', 'review_words', 'review_unique_words']\n",
    "sns.boxplot(x=\"variable\", y=\"value\", data=pd.melt(regular_reviews_text[columns_to_melt]), ax=ax[0])\n",
    "ax[0].set_title('Review Boxplots')\n",
    "ax[0].set_xlabel('Columns')\n",
    "ax[0].set_ylabel('Counts')\n",
    "\n",
    "# histogram\n",
    "sns.histplot(x='review_lengths', data=regular_reviews_text, kde=True, ax=ax[1])\n",
    "ax[1].set_title('Review Lengths Histogram')\n",
    "\n",
    "plt.tight_layout()"
   ]
  },
  {
   "cell_type": "code",
   "execution_count": 75,
   "id": "ce755876",
   "metadata": {},
   "outputs": [
    {
     "data": {
      "image/png": "[encoded data removed]",
      "text/plain": [
       "<Figure size 648x432 with 1 Axes>"
      ]
     },
     "metadata": {},
     "output_type": "display_data"
    }
   ],
   "source": [
    "really_short_reviews = review_text_lengths.loc[review_text_lengths['review_lengths'] <= 50]\n",
    "plt.figure(figsize=((9, 6)))\n",
    "ax = sns.countplot(x='star_rating', data=really_short_reviews)\n",
    "ax.set(xlabel='Rating', ylabel='Review Length')\n",
    "ax.set(title='Short Review Rating Distribution')\n",
    "plt.show()"
   ]
  },
  {
   "cell_type": "markdown",
   "id": "2795e671",
   "metadata": {},
   "source": [
    "## Chai-Square Test $({\\chi}^2)$\n",
    "\n",
    "Looks like people that wrote shorter reviews are more likly to leave a 5 star rating\n",
    "\n",
    "* __Null Hypothesis__: People that write short reviews leave ratings at random. Equal probability for between 1-4 and 5 ratings.\n",
    "* __Hypothesis__: People that write short reviews do not leave ratings at random \n",
    "* __Alpha__: 0.05 (5%)\n",
    "\n",
    "### 1. Create a contingency table\n",
    "    * Summarize the total number of five-star reviews against the rest of the reviews\n",
    "    * Repeat the process for both short and regular review lengths"
   ]
  },
  {
   "cell_type": "code",
   "execution_count": 89,
   "id": "ab466c4a",
   "metadata": {},
   "outputs": [
    {
     "data": {
      "text/html": [
       "<div>\n",
       "<style scoped>\n",
       "    .dataframe tbody tr th:only-of-type {\n",
       "        vertical-align: middle;\n",
       "    }\n",
       "\n",
       "    .dataframe tbody tr th {\n",
       "        vertical-align: top;\n",
       "    }\n",
       "\n",
       "    .dataframe thead th {\n",
       "        text-align: right;\n",
       "    }\n",
       "</style>\n",
       "<table border=\"1\" class=\"dataframe\">\n",
       "  <thead>\n",
       "    <tr style=\"text-align: right;\">\n",
       "      <th></th>\n",
       "      <th>short_reviews</th>\n",
       "      <th>regular_reviews</th>\n",
       "    </tr>\n",
       "  </thead>\n",
       "  <tbody>\n",
       "    <tr>\n",
       "      <th>1-4 Stars</th>\n",
       "      <td>131378</td>\n",
       "      <td>1181330</td>\n",
       "    </tr>\n",
       "    <tr>\n",
       "      <th>5 Stars</th>\n",
       "      <td>332430</td>\n",
       "      <td>1448731</td>\n",
       "    </tr>\n",
       "  </tbody>\n",
       "</table>\n",
       "</div>"
      ],
      "text/plain": [
       "           short_reviews  regular_reviews\n",
       "1-4 Stars         131378          1181330\n",
       "5 Stars           332430          1448731"
      ]
     },
     "execution_count": 89,
     "metadata": {},
     "output_type": "execute_result"
    }
   ],
   "source": [
    "# separate the population that wrote reviews longer than 50 charachters\n",
    "rest_lengths_reviews = review_text_lengths.loc[review_text_lengths['review_lengths'] > 50]\n",
    "\n",
    "# convert the ratings count to have two outcomes (1 for 5 star reviews and 0 for the rest)\n",
    "rest_lengths_reviews['star_rating'] = rest_lengths_reviews['star_rating'].apply(lambda x: 1 if x > 4 else 0)\n",
    "really_short_reviews['star_rating'] = really_short_reviews['star_rating'].apply(lambda x: 1 if x > 4 else 0)\n",
    "\n",
    "# count then number of reviews \n",
    "short_lengths = really_short_reviews[['review_lengths', 'star_rating']].groupby(['star_rating']).agg('count')\n",
    "regular_lengths = rest_lengths_reviews[['review_lengths', 'star_rating']].groupby(['star_rating']).agg('count')\n",
    "\n",
    "contingency_table = pd.DataFrame()\n",
    "contingency_table['short_reviews'] = short_lengths.loc[:, 'review_lengths'].copy(deep=True).to_numpy()\n",
    "contingency_table['regular_reviews'] = regular_lengths.loc[:, 'review_lengths'].copy(deep=True).to_numpy()\n",
    "\n",
    "contingency_table.index = ['1-4 Stars', '5 Stars']\n",
    "contingency_table.head()"
   ]
  },
  {
   "cell_type": "markdown",
   "id": "e931af40",
   "metadata": {},
   "source": [
    "### 2. Test hypothesis"
   ]
  },
  {
   "cell_type": "code",
   "execution_count": 95,
   "id": "065c8b2f",
   "metadata": {},
   "outputs": [
    {
     "name": "stdout",
     "output_type": "stream",
     "text": [
      "Degrees of Freedom = 1\n",
      "\n",
      "Expected Frequncies: \n",
      "[[ 196790.64370987  267017.35629013]\n",
      " [1115917.35629013 1514143.64370987]]\n",
      "\n",
      "probability = 0.95\n",
      "critical = 3.841\n",
      "stat = 44427.018\n",
      "\n",
      "Dependent -> (reject H0)\n"
     ]
    }
   ],
   "source": [
    "# chi-squared test\n",
    "from scipy.stats import chi2_contingency\n",
    "from scipy.stats import chi2\n",
    "\n",
    "stat, p, dof, expected = chi2_contingency(contingency_table.T.values)\n",
    "print(f'Degrees of Freedom = {dof}\\n')\n",
    "\n",
    "print(f'Expected Frequncies: \\n{expected}\\n')\n",
    "\n",
    "# interpret test-statistic\n",
    "alpha = 0.05\n",
    "prob = 1.0 - alpha\n",
    "\n",
    "critical = chi2.ppf(prob, dof)\n",
    "print(f'probability = {round(prob, 3)}\\ncritical = {round(critical, 3)}\\nstat = {round(stat, 3)}\\n')\n",
    "\n",
    "if abs(stat) >= critical:\n",
    "    print('Dependent -> (reject H0)')\n",
    "else:\n",
    "    print('Independent -> (fail to reject H0)')"
   ]
  },
  {
   "cell_type": "markdown",
   "id": "004cc6e5",
   "metadata": {},
   "source": [
    "* Note: Because it's significant that people that leave short reviews are more likly to leave a 5 star review.\n",
    "    Later on, I'll create a feature that will indicate whether the review is 50 charachters or less."
   ]
  },
  {
   "cell_type": "code",
   "execution_count": 180,
   "id": "acc3bf17",
   "metadata": {},
   "outputs": [
    {
     "data": {
      "image/png": "[encoded data removed]",
      "text/plain": [
       "<Figure size 648x432 with 1 Axes>"
      ]
     },
     "metadata": {},
     "output_type": "display_data"
    }
   ],
   "source": [
    "# check the distribution of ratings among verbous reviews\n",
    "plt.figure(figsize=((9, 6)))\n",
    "ax = sns.countplot(x='star_rating', data=regular_reviews_text)\n",
    "ax.set(xlabel='Rating', ylabel='Review Length')\n",
    "ax.set(title='Review Rating Distribution')\n",
    "plt.show()"
   ]
  },
  {
   "cell_type": "markdown",
   "id": "aed5e2b3",
   "metadata": {},
   "source": [
    "## Preprocessing\n",
    "\n",
    "* Reduce Class Imbalance\n",
    "* Lower case\n",
    "* Remove punctuation\n",
    "* Remove stop words\n",
    "* Tokenize\n",
    "* Stem"
   ]
  },
  {
   "cell_type": "markdown",
   "id": "7b74be23",
   "metadata": {},
   "source": [
    "### 1. Reduce Class Imbalance"
   ]
  },
  {
   "cell_type": "code",
   "execution_count": null,
   "id": "da651893",
   "metadata": {},
   "outputs": [],
   "source": [
    "reviews_to_keep = regular_reviews_text.index.tolist()\n",
    "minimized_dataset = df.loc[reviews_to_keep, :]\n",
    "def balance_dataset(df: pd.DataFrame):\n",
    "    pass"
   ]
  },
  {
   "cell_type": "code",
   "execution_count": 136,
   "id": "9eb64c9f",
   "metadata": {},
   "outputs": [
    {
     "name": "stdout",
     "output_type": "stream",
     "text": [
      "Statistics = 0.804\n",
      "p = 0.0\n",
      "\n",
      "Sample does not look Gaussian (reject H0)\n"
     ]
    },
    {
     "data": {
      "image/png": "[encoded data removed]",
      "text/plain": [
       "<Figure size 576x360 with 1 Axes>"
      ]
     },
     "metadata": {},
     "output_type": "display_data"
    }
   ],
   "source": [
    "from scipy.stats import shapiro\n",
    "\n",
    "\n",
    "def normality_test(data: np.ndarray, alpha: Optional[float] = 0.05):\n",
    "    stat, p = shapiro(data)\n",
    "\n",
    "    # interpret\n",
    "    print(f'Statistics = {round(stat, 3)}\\np = {round(p, 3)}\\n')\n",
    "\n",
    "    if p > alpha:\n",
    "        print('Sample looks Gaussian (fail to reject H0)')\n",
    "    else:\n",
    "        print('Sample does not look Gaussian (reject H0)')\n",
    "    \n",
    "    # plot histogram\n",
    "    fig = plt.figure(figsize=(8, 5))\n",
    "    sns.histplot(data, kde=True)\n",
    "    plt.show()\n",
    "    pass\n",
    "    \n",
    "normality_test(regular_reviews_text['review_lengths'])"
   ]
  },
  {
   "cell_type": "code",
   "execution_count": null,
   "id": "6b096c69",
   "metadata": {},
   "outputs": [],
   "source": []
  },
  {
   "cell_type": "code",
   "execution_count": null,
   "id": "f7c9f485",
   "metadata": {},
   "outputs": [],
   "source": []
  },
  {
   "cell_type": "code",
   "execution_count": null,
   "id": "3009e7d8",
   "metadata": {},
   "outputs": [],
   "source": []
  },
  {
   "cell_type": "code",
   "execution_count": 136,
   "id": "00e03846",
   "metadata": {},
   "outputs": [
    {
     "data": {
      "text/html": [
       "<div>\n",
       "<style scoped>\n",
       "    .dataframe tbody tr th:only-of-type {\n",
       "        vertical-align: middle;\n",
       "    }\n",
       "\n",
       "    .dataframe tbody tr th {\n",
       "        vertical-align: top;\n",
       "    }\n",
       "\n",
       "    .dataframe thead th {\n",
       "        text-align: right;\n",
       "    }\n",
       "</style>\n",
       "<table border=\"1\" class=\"dataframe\">\n",
       "  <thead>\n",
       "    <tr style=\"text-align: right;\">\n",
       "      <th></th>\n",
       "      <th>review_lengths</th>\n",
       "      <th>review_words</th>\n",
       "      <th>review_unique_words</th>\n",
       "      <th>star_rating</th>\n",
       "    </tr>\n",
       "  </thead>\n",
       "  <tbody>\n",
       "    <tr>\n",
       "      <th>review_lengths</th>\n",
       "      <td>1.000000</td>\n",
       "      <td>0.997449</td>\n",
       "      <td>0.953027</td>\n",
       "      <td>-0.050635</td>\n",
       "    </tr>\n",
       "    <tr>\n",
       "      <th>review_words</th>\n",
       "      <td>0.997449</td>\n",
       "      <td>1.000000</td>\n",
       "      <td>0.957815</td>\n",
       "      <td>-0.053185</td>\n",
       "    </tr>\n",
       "    <tr>\n",
       "      <th>review_unique_words</th>\n",
       "      <td>0.953027</td>\n",
       "      <td>0.957815</td>\n",
       "      <td>1.000000</td>\n",
       "      <td>-0.074715</td>\n",
       "    </tr>\n",
       "    <tr>\n",
       "      <th>star_rating</th>\n",
       "      <td>-0.050635</td>\n",
       "      <td>-0.053185</td>\n",
       "      <td>-0.074715</td>\n",
       "      <td>1.000000</td>\n",
       "    </tr>\n",
       "  </tbody>\n",
       "</table>\n",
       "</div>"
      ],
      "text/plain": [
       "                     review_lengths  review_words  review_unique_words  \\\n",
       "review_lengths             1.000000      0.997449             0.953027   \n",
       "review_words               0.997449      1.000000             0.957815   \n",
       "review_unique_words        0.953027      0.957815             1.000000   \n",
       "star_rating               -0.050635     -0.053185            -0.074715   \n",
       "\n",
       "                     star_rating  \n",
       "review_lengths         -0.050635  \n",
       "review_words           -0.053185  \n",
       "review_unique_words    -0.074715  \n",
       "star_rating             1.000000  "
      ]
     },
     "execution_count": 136,
     "metadata": {},
     "output_type": "execute_result"
    },
    {
     "data": {
      "image/png": "[encoded data removed]",
      "text/plain": [
       "<Figure size 648x648 with 2 Axes>"
      ]
     },
     "metadata": {},
     "output_type": "display_data"
    }
   ],
   "source": [
    "def plot_correlations(df: pd.DataFrame, xrot: Optional[int] = 70, yrot: Optional[int] = 0, \n",
    "                       label: Optional[str] = 'Variable'):\n",
    "    '''\n",
    "    This function accepts a pandas dataframe and returns a column heatmap\n",
    "    inputs:\n",
    "        df:\n",
    "        xrot:\n",
    "        yrot:\n",
    "        label:\n",
    "    '''\n",
    "    \n",
    "    correlations = df.corr()\n",
    "    \n",
    "    # exclude duplicate correlations by masking uper right values\n",
    "    mask = np.zeros_like(correlations, dtype=np.bool)\n",
    "    mask[np.triu_indices_from(mask)] = True\n",
    "    \n",
    "    # set background color / chart style\n",
    "    sns.set_style(style='dark')\n",
    "    fig, ax = plt.subplots(figsize=(9, 9))\n",
    "\n",
    "    # add colormap from blue to red\n",
    "    cmap = sns.color_palette('coolwarm', as_cmap=True)\n",
    "    # add titles\n",
    "    plt.title(\"Correlation Heat Map\")\n",
    "\n",
    "    # draw correlations\n",
    "    sns.heatmap(correlations, mask=mask, cmap=cmap,\n",
    "                square=True,\n",
    "                linewidth=.5, cbar_kws={\"shrink\": .8}, ax=ax)\n",
    "    \n",
    "    plt.xlabel(label)\n",
    "    plt.ylabel(label)\n",
    "    plt.xticks(rotation=xrot)\n",
    "    plt.yticks(rotation=yrot)\n",
    "    return correlations\n",
    "\n",
    "plot_correlations(review_text_lengths)"
   ]
  },
  {
   "cell_type": "code",
   "execution_count": null,
   "id": "fcdcdbfd",
   "metadata": {},
   "outputs": [],
   "source": []
  }
 ],
 "metadata": {
  "kernelspec": {
   "display_name": "Python 3",
   "language": "python",
   "name": "python3"
  },
  "language_info": {
   "codemirror_mode": {
    "name": "ipython",
    "version": 3
   },
   "file_extension": ".py",
   "mimetype": "text/x-python",
   "name": "python",
   "nbconvert_exporter": "python",
   "pygments_lexer": "ipython3",
   "version": "3.7.4"
  }
 },
 "nbformat": 4,
 "nbformat_minor": 5
}
