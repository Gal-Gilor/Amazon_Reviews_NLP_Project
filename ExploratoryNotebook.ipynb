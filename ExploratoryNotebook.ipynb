{
 "cells": [
  {
   "cell_type": "markdown",
   "id": "4c636a22",
   "metadata": {},
   "source": [
    "# Amazon Reviews\n",
    "\n",
    "[Readme](https://s3.amazonaws.com/amazon-reviews-pds/readme.html) \\\n",
    "[Index](https://s3.amazonaws.com/amazon-reviews-pds/tsv/index.txt)\n",
    "\n",
    "\n",
    "## Column Descriptions\n",
    "\n",
    "* marketplace       - 2 letter country code of the marketplace where the review was written.\n",
    "* customer_id       - Random identifier that can be used to aggregate reviews written by a single author.\n",
    "* review_id         - The unique ID of the review.\n",
    "* product_id        - The unique Product ID the review pertains to. In the multilingual dataset the reviews for the same product in different countries can be grouped by the same product_id.\n",
    "* product_parent    - Random identifier that can be used to aggregate reviews for the same product.\n",
    "* product_title     - Title of the product.\n",
    "* product_category  - Broad product category that can be used to group reviews (also used to group the dataset into coherent parts).\n",
    "* star_rating       - The 1-5 star rating of the review.\n",
    "* helpful_votes     - Number of helpful votes.\n",
    "* total_votes       - Number of total votes the review received.\n",
    "* vine              - Review was written as part of the Vine program.\n",
    "* verified_purchase - The review is on a verified purchase.\n",
    "* review_headline   - The title of the review.\n",
    "* review_body       - The review text.\n",
    "* review_date       - The date the review was written.\n"
   ]
  },
  {
   "cell_type": "code",
   "execution_count": 2,
   "id": "0617801a",
   "metadata": {},
   "outputs": [],
   "source": [
    "import pandas as pd\n",
    "import gzip\n",
    "import os\n",
    "\n",
    "from typing import Dict, Optional, List, Union"
   ]
  },
  {
   "cell_type": "markdown",
   "id": "78ade35e",
   "metadata": {},
   "source": [
    "### Download, Parse and Load Dataset"
   ]
  },
  {
   "cell_type": "code",
   "execution_count": 5,
   "id": "e8865dee",
   "metadata": {
    "scrolled": true
   },
   "outputs": [],
   "source": [
    "def parse_gz(path: str):\n",
    "    '''\n",
    "    Open GZ file and decode bytes to strings\n",
    "    inputs:\n",
    "        path: string, path to the .gz file\n",
    "    '''\n",
    "    g = gzip.open(path, 'rb')\n",
    "    for l in g:\n",
    "        l = l.decode(\"utf-8\") \n",
    "        yield l\n",
    "        \n",
    "def read_reviews(path: str):\n",
    "    '''\n",
    "    Read Amazon's product reviews file and return a pandas DataFrame\n",
    "    inputs:\n",
    "        path: string, path to the .tsv.gz file\n",
    "    '''\n",
    "    data = []\n",
    "    for i, line in enumerate(parse_gz(path)):\n",
    "        \n",
    "        line = line.split('\\t') # separate the tab separated line\n",
    "        line[-1] = line[-1].strip() # remove trailing new lines\n",
    "        data.append(line)\n",
    "        \n",
    "    columns = data.pop(0)\n",
    "    return pd.DataFrame.from_records(data, columns=columns)\n",
    "\n",
    "def download_reviews(url: str, location: str, filename: Optional[str] = 'reviews.gz'):\n",
    "    '''\n",
    "    \n",
    "    '''\n",
    "    \n",
    "    # create new directory to store the product reviews\n",
    "    try:\n",
    "        os.makedirs(location)\n",
    "        print('Successfully created new directory')\n",
    "    except FileExistsError:\n",
    "        print(f'Directory already exists')\n",
    "    \n",
    "    print('Starting to download the dataset')\n",
    "    path = os.path.join(location, filename) # create the full path to store the download\n",
    "    urllib.request.urlretrieve(url, path) \n",
    "    print('Download completed')\n",
    "    \n",
    "    print('Parsing and converting the GZip file as a pandas DataFrame. This may take awhile...')\n",
    "    df = read_reviews(path)\n",
    "    print('Successfully created a new DataFrame containing Amazon product reviews')\n",
    "    \n",
    "    save_csv = input('Would you like to save this DataFrame as a CSV to avoid having to parse the file again? Type yes proceed\\n')\n",
    "    \n",
    "    if save_csv.lower() == 'yes':\n",
    "        save_as = input('How would you like to name the DataFrame?\\n')\n",
    "        path = f'{location}/{save_as}'\n",
    "        df.to_csv(path, index=False)\n",
    "        print(f'Successfully saved {path}')\n",
    "    \n",
    "    return df, path"
   ]
  },
  {
   "cell_type": "code",
   "execution_count": 6,
   "id": "af69e095",
   "metadata": {},
   "outputs": [
    {
     "name": "stdout",
     "output_type": "stream",
     "text": [
      "Directory already exists\n",
      "Starting to download the dataset\n",
      "Download completed\n",
      "Parsing and converting the GZip file as a pandas DataFrame. This may take awhile...\n",
      "Successfully created a new DataFrame containing Amazon product reviews\n",
      "Would you like to save this DataFrame as a CSV to avoid having to parse the file again? Type yes proceed\n",
      "yes\n",
      "How would you like to name the DataFrame?\n",
      "reviews.csv\n",
      "Successfully saved reviews/raw/reviews.csv\n",
      "Wall time: 7min 31s\n"
     ]
    }
   ],
   "source": [
    "%%time\n",
    "\n",
    "url = 'https://s3.amazonaws.com/amazon-reviews-pds/tsv/amazon_reviews_us_Electronics_v1_00.tsv.gz'\n",
    "location = 'reviews/raw'\n",
    "filename = 'reviews.gz'\n",
    "\n",
    "# download the reviews\n",
    "_, csv_location = download_reviews(url, location, filename)"
   ]
  },
  {
   "cell_type": "code",
   "execution_count": 11,
   "id": "aeabf9c8",
   "metadata": {},
   "outputs": [],
   "source": [
    "import matplotlib.pyplot as plt\n",
    "import seaborn as sns\n",
    "\n",
    "%matplotlib inline\n",
    "plt.style.use('seaborn-dark')"
   ]
  },
  {
   "cell_type": "code",
   "execution_count": 3,
   "id": "e79d1a3e",
   "metadata": {},
   "outputs": [],
   "source": [
    "# load review text and ratings\n",
    "csv_location = 'reviews/raw/reviews.csv'\n",
    "columns = ['review_headline', 'review_body', 'star_rating']\n",
    "\n",
    "try:\n",
    "    df = pd.read_csv(csv_location, usecols=columns)\n",
    "\n",
    "except FileExistsError:\n",
    "    df, _ = download_reviews(url, location, filename)"
   ]
  },
  {
   "cell_type": "code",
   "execution_count": 5,
   "id": "11c5bfce",
   "metadata": {},
   "outputs": [
    {
     "name": "stdout",
     "output_type": "stream",
     "text": [
      "<class 'pandas.core.frame.DataFrame'>\n",
      "RangeIndex: 3093869 entries, 0 to 3093868\n",
      "Data columns (total 3 columns):\n",
      " #   Column           Dtype \n",
      "---  ------           ----- \n",
      " 0   star_rating      int64 \n",
      " 1   review_headline  object\n",
      " 2   review_body      object\n",
      "dtypes: int64(1), object(2)\n",
      "memory usage: 70.8+ MB\n"
     ]
    }
   ],
   "source": [
    "df.info()"
   ]
  },
  {
   "cell_type": "code",
   "execution_count": 36,
   "id": "44430779",
   "metadata": {},
   "outputs": [
    {
     "data": {
      "image/png": "[encoded data removed]",
      "text/plain": [
       "<Figure size 648x432 with 1 Axes>"
      ]
     },
     "metadata": {},
     "output_type": "display_data"
    }
   ],
   "source": [
    "#\n",
    "plt.figure(figsize=((9, 6)))\n",
    "hist_ax = sns.countplot(x='star_rating', data=df)\n",
    "hist_ax.set(xlabel='Rating', ylabel='Reviews')\n",
    "hist_ax.set(title='Original Rating Distribution')\n",
    "\n",
    "plt.tight_layout()"
   ]
  },
  {
   "cell_type": "code",
   "execution_count": null,
   "id": "5f138db0",
   "metadata": {},
   "outputs": [],
   "source": []
  }
 ],
 "metadata": {
  "kernelspec": {
   "display_name": "Python 3",
   "language": "python",
   "name": "python3"
  },
  "language_info": {
   "codemirror_mode": {
    "name": "ipython",
    "version": 3
   },
   "file_extension": ".py",
   "mimetype": "text/x-python",
   "name": "python",
   "nbconvert_exporter": "python",
   "pygments_lexer": "ipython3",
   "version": "3.7.4"
  }
 },
 "nbformat": 4,
 "nbformat_minor": 5
}
