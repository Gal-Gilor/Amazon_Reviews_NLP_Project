{
 "cells": [
  {
   "cell_type": "markdown",
   "metadata": {},
   "source": [
    "## EDA & Data cleaning"
   ]
  },
  {
   "cell_type": "code",
   "execution_count": 1,
   "metadata": {},
   "outputs": [],
   "source": [
    "import numpy as np\n",
    "from tqdm import tqdm\n",
    "import pandas as pd\n",
    "import json\n",
    "import string\n",
    "import nltk\n",
    "from nltk.corpus import stopwords\n",
    "from  nltk import FreqDist\n",
    "from nltk import word_tokenize\n",
    "from nltk.stem import WordNetLemmatizer \n",
    "from sklearn.feature_extraction.text import CountVectorizer, TfidfVectorizer\n",
    "import itertools\n",
    "import text_cleaning_helper_functions as clean\n",
    "import seaborn as sns\n",
    "import matplotlib.pyplot as plt\n",
    "%matplotlib inline"
   ]
  },
  {
   "cell_type": "code",
   "execution_count": 2,
   "metadata": {},
   "outputs": [],
   "source": [
    "data = [json.loads(line) for line in open('reviews_Electronics_5.json', 'r')]"
   ]
  },
  {
   "cell_type": "code",
   "execution_count": 3,
   "metadata": {},
   "outputs": [],
   "source": [
    "df = pd.DataFrame(data)"
   ]
  },
  {
   "cell_type": "code",
   "execution_count": 4,
   "metadata": {},
   "outputs": [
    {
     "data": {
      "text/html": [
       "<div>\n",
       "<style scoped>\n",
       "    .dataframe tbody tr th:only-of-type {\n",
       "        vertical-align: middle;\n",
       "    }\n",
       "\n",
       "    .dataframe tbody tr th {\n",
       "        vertical-align: top;\n",
       "    }\n",
       "\n",
       "    .dataframe thead th {\n",
       "        text-align: right;\n",
       "    }\n",
       "</style>\n",
       "<table border=\"1\" class=\"dataframe\">\n",
       "  <thead>\n",
       "    <tr style=\"text-align: right;\">\n",
       "      <th></th>\n",
       "      <th>asin</th>\n",
       "      <th>helpful</th>\n",
       "      <th>overall</th>\n",
       "      <th>reviewText</th>\n",
       "      <th>reviewTime</th>\n",
       "      <th>reviewerID</th>\n",
       "      <th>reviewerName</th>\n",
       "      <th>summary</th>\n",
       "      <th>unixReviewTime</th>\n",
       "    </tr>\n",
       "  </thead>\n",
       "  <tbody>\n",
       "    <tr>\n",
       "      <th>0</th>\n",
       "      <td>0528881469</td>\n",
       "      <td>[0, 0]</td>\n",
       "      <td>5.0</td>\n",
       "      <td>We got this GPS for my husband who is an (OTR)...</td>\n",
       "      <td>06 2, 2013</td>\n",
       "      <td>AO94DHGC771SJ</td>\n",
       "      <td>amazdnu</td>\n",
       "      <td>Gotta have GPS!</td>\n",
       "      <td>1370131200</td>\n",
       "    </tr>\n",
       "    <tr>\n",
       "      <th>1</th>\n",
       "      <td>0528881469</td>\n",
       "      <td>[12, 15]</td>\n",
       "      <td>1.0</td>\n",
       "      <td>I'm a professional OTR truck driver, and I bou...</td>\n",
       "      <td>11 25, 2010</td>\n",
       "      <td>AMO214LNFCEI4</td>\n",
       "      <td>Amazon Customer</td>\n",
       "      <td>Very Disappointed</td>\n",
       "      <td>1290643200</td>\n",
       "    </tr>\n",
       "    <tr>\n",
       "      <th>2</th>\n",
       "      <td>0528881469</td>\n",
       "      <td>[43, 45]</td>\n",
       "      <td>3.0</td>\n",
       "      <td>Well, what can I say.  I've had this unit in m...</td>\n",
       "      <td>09 9, 2010</td>\n",
       "      <td>A3N7T0DY83Y4IG</td>\n",
       "      <td>C. A. Freeman</td>\n",
       "      <td>1st impression</td>\n",
       "      <td>1283990400</td>\n",
       "    </tr>\n",
       "    <tr>\n",
       "      <th>3</th>\n",
       "      <td>0528881469</td>\n",
       "      <td>[9, 10]</td>\n",
       "      <td>2.0</td>\n",
       "      <td>Not going to write a long review, even thought...</td>\n",
       "      <td>11 24, 2010</td>\n",
       "      <td>A1H8PY3QHMQQA0</td>\n",
       "      <td>Dave M. Shaw \"mack dave\"</td>\n",
       "      <td>Great grafics, POOR GPS</td>\n",
       "      <td>1290556800</td>\n",
       "    </tr>\n",
       "    <tr>\n",
       "      <th>4</th>\n",
       "      <td>0528881469</td>\n",
       "      <td>[0, 0]</td>\n",
       "      <td>1.0</td>\n",
       "      <td>I've had mine for a year and here's what we go...</td>\n",
       "      <td>09 29, 2011</td>\n",
       "      <td>A24EV6RXELQZ63</td>\n",
       "      <td>Wayne Smith</td>\n",
       "      <td>Major issues, only excuses for support</td>\n",
       "      <td>1317254400</td>\n",
       "    </tr>\n",
       "  </tbody>\n",
       "</table>\n",
       "</div>"
      ],
      "text/plain": [
       "         asin   helpful  overall  \\\n",
       "0  0528881469    [0, 0]      5.0   \n",
       "1  0528881469  [12, 15]      1.0   \n",
       "2  0528881469  [43, 45]      3.0   \n",
       "3  0528881469   [9, 10]      2.0   \n",
       "4  0528881469    [0, 0]      1.0   \n",
       "\n",
       "                                          reviewText   reviewTime  \\\n",
       "0  We got this GPS for my husband who is an (OTR)...   06 2, 2013   \n",
       "1  I'm a professional OTR truck driver, and I bou...  11 25, 2010   \n",
       "2  Well, what can I say.  I've had this unit in m...   09 9, 2010   \n",
       "3  Not going to write a long review, even thought...  11 24, 2010   \n",
       "4  I've had mine for a year and here's what we go...  09 29, 2011   \n",
       "\n",
       "       reviewerID              reviewerName  \\\n",
       "0   AO94DHGC771SJ                   amazdnu   \n",
       "1   AMO214LNFCEI4           Amazon Customer   \n",
       "2  A3N7T0DY83Y4IG             C. A. Freeman   \n",
       "3  A1H8PY3QHMQQA0  Dave M. Shaw \"mack dave\"   \n",
       "4  A24EV6RXELQZ63               Wayne Smith   \n",
       "\n",
       "                                  summary  unixReviewTime  \n",
       "0                         Gotta have GPS!      1370131200  \n",
       "1                       Very Disappointed      1290643200  \n",
       "2                          1st impression      1283990400  \n",
       "3                 Great grafics, POOR GPS      1290556800  \n",
       "4  Major issues, only excuses for support      1317254400  "
      ]
     },
     "execution_count": 4,
     "metadata": {},
     "output_type": "execute_result"
    }
   ],
   "source": [
    "df.head()"
   ]
  },
  {
   "cell_type": "code",
   "execution_count": 5,
   "metadata": {},
   "outputs": [
    {
     "data": {
      "text/plain": [
       "asin                  0\n",
       "helpful               0\n",
       "overall               0\n",
       "reviewText            0\n",
       "reviewTime            0\n",
       "reviewerID            0\n",
       "reviewerName      24730\n",
       "summary               0\n",
       "unixReviewTime        0\n",
       "dtype: int64"
      ]
     },
     "execution_count": 5,
     "metadata": {},
     "output_type": "execute_result"
    }
   ],
   "source": [
    "df.isna().sum()"
   ]
  },
  {
   "cell_type": "code",
   "execution_count": 6,
   "metadata": {},
   "outputs": [
    {
     "data": {
      "text/plain": [
       "(1689188, 9)"
      ]
     },
     "execution_count": 6,
     "metadata": {},
     "output_type": "execute_result"
    }
   ],
   "source": [
    "df.shape"
   ]
  },
  {
   "cell_type": "code",
   "execution_count": 7,
   "metadata": {},
   "outputs": [
    {
     "data": {
      "text/plain": [
       "5.0    1009026\n",
       "4.0     347041\n",
       "3.0     142257\n",
       "1.0     108725\n",
       "2.0      82139\n",
       "Name: overall, dtype: int64"
      ]
     },
     "execution_count": 7,
     "metadata": {},
     "output_type": "execute_result"
    }
   ],
   "source": [
    "df['overall'].value_counts()"
   ]
  },
  {
   "cell_type": "code",
   "execution_count": 10,
   "metadata": {},
   "outputs": [],
   "source": [
    "# drop reviews to reduce class imabalance and reduce size of data\n",
    "remove_n_5 = 900000\n",
    "remove_n_4 = 247000\n",
    "remove_n_3 = 40000\n",
    "\n",
    "just5 = df.loc[df['overall'] == 5]\n",
    "just4 = df.loc[df['overall'] == 4]\n",
    "just3 = df.loc[df['overall'] == 3]\n",
    "\n",
    "drop_indices_5 = np.random.choice(just5.index, remove_n_5, replace=False)\n",
    "drop_indices_4 = np.random.choice(just4.index, remove_n_4, replace=False)\n",
    "drop_indices_3 = np.random.choice(just3.index, remove_n_3, replace=False)\n",
    "\n",
    "df_final = df.drop(drop_indices_5)\n",
    "df_final = df_final.drop(drop_indices_4)\n",
    "df_final = df_final.drop(drop_indices_3)"
   ]
  },
  {
   "cell_type": "code",
   "execution_count": 11,
   "metadata": {},
   "outputs": [
    {
     "data": {
      "text/plain": [
       "5.0    109026\n",
       "1.0    108725\n",
       "3.0    102257\n",
       "4.0    100041\n",
       "2.0     82139\n",
       "Name: overall, dtype: int64"
      ]
     },
     "execution_count": 11,
     "metadata": {},
     "output_type": "execute_result"
    }
   ],
   "source": [
    "df_final['overall'].value_counts()"
   ]
  },
  {
   "cell_type": "code",
   "execution_count": 12,
   "metadata": {},
   "outputs": [],
   "source": [
    "df_final.reset_index(drop=True,inplace=True)"
   ]
  },
  {
   "cell_type": "code",
   "execution_count": 13,
   "metadata": {},
   "outputs": [],
   "source": [
    "df_text = df_final[['asin','reviewText','overall','reviewerID']]"
   ]
  },
  {
   "cell_type": "code",
   "execution_count": 14,
   "metadata": {
    "collapsed": true
   },
   "outputs": [
    {
     "name": "stderr",
     "output_type": "stream",
     "text": [
      "/Users/Kristinabarounis/anaconda3/lib/python3.7/site-packages/ipykernel_launcher.py:1: SettingWithCopyWarning: \n",
      "A value is trying to be set on a copy of a slice from a DataFrame.\n",
      "Try using .loc[row_indexer,col_indexer] = value instead\n",
      "\n",
      "See the caveats in the documentation: http://pandas.pydata.org/pandas-docs/stable/indexing.html#indexing-view-versus-copy\n",
      "  \"\"\"Entry point for launching an IPython kernel.\n"
     ]
    }
   ],
   "source": [
    "df_text['asin_reviewer'] = df_text['asin'].astype(str)+ '_' + df_text['reviewerID'].astype(str)"
   ]
  },
  {
   "cell_type": "code",
   "execution_count": 15,
   "metadata": {
    "collapsed": true
   },
   "outputs": [
    {
     "name": "stderr",
     "output_type": "stream",
     "text": [
      "/Users/Kristinabarounis/anaconda3/lib/python3.7/site-packages/pandas/core/frame.py:3940: SettingWithCopyWarning: \n",
      "A value is trying to be set on a copy of a slice from a DataFrame\n",
      "\n",
      "See the caveats in the documentation: http://pandas.pydata.org/pandas-docs/stable/indexing.html#indexing-view-versus-copy\n",
      "  errors=errors)\n"
     ]
    }
   ],
   "source": [
    "df_text.drop(columns=['asin','reviewerID'],axis=1,inplace=True)"
   ]
  },
  {
   "cell_type": "markdown",
   "metadata": {},
   "source": [
    "# NLP"
   ]
  },
  {
   "cell_type": "code",
   "execution_count": 17,
   "metadata": {},
   "outputs": [],
   "source": [
    "# expand list of stopwords\n",
    "new_stopwords = [x.replace(\"'\",\"\") for x in stopwords.words('english')]\n",
    "final_stopwords = set(new_stopwords+stopwords.words('english')+list(string.punctuation))"
   ]
  },
  {
   "cell_type": "code",
   "execution_count": 22,
   "metadata": {},
   "outputs": [],
   "source": [
    "# take out review text from dataframe and make it a series\n",
    "reviews = df_text['reviewText']"
   ]
  },
  {
   "cell_type": "code",
   "execution_count": 25,
   "metadata": {
    "scrolled": true
   },
   "outputs": [
    {
     "name": "stderr",
     "output_type": "stream",
     "text": [
      "100%|██████████| 502188/502188 [1:03:21<00:00, 132.09it/s]\n"
     ]
    }
   ],
   "source": [
    "# perform the cleaning, tokenizing, and lemmatizing of each review and save it to corpus\n",
    "corpus = clean.finalize_token(reviews)"
   ]
  },
  {
   "cell_type": "code",
   "execution_count": 23,
   "metadata": {
    "collapsed": true
   },
   "outputs": [
    {
     "ename": "NameError",
     "evalue": "name 'corpus' is not defined",
     "output_type": "error",
     "traceback": [
      "\u001b[0;31m---------------------------------------------------------------------------\u001b[0m",
      "\u001b[0;31mNameError\u001b[0m                                 Traceback (most recent call last)",
      "\u001b[0;32m<ipython-input-23-f5a2788a889d>\u001b[0m in \u001b[0;36m<module>\u001b[0;34m\u001b[0m\n\u001b[1;32m      1\u001b[0m \u001b[0;31m# put list of strings in its own df\u001b[0m\u001b[0;34m\u001b[0m\u001b[0;34m\u001b[0m\u001b[0;34m\u001b[0m\u001b[0m\n\u001b[0;32m----> 2\u001b[0;31m \u001b[0mdf_corpus\u001b[0m \u001b[0;34m=\u001b[0m \u001b[0mpd\u001b[0m\u001b[0;34m.\u001b[0m\u001b[0mDataFrame\u001b[0m\u001b[0;34m(\u001b[0m\u001b[0mcorpus\u001b[0m\u001b[0;34m,\u001b[0m \u001b[0mcolumns\u001b[0m\u001b[0;34m=\u001b[0m\u001b[0;34m[\u001b[0m\u001b[0;34m'reviews'\u001b[0m\u001b[0;34m]\u001b[0m\u001b[0;34m)\u001b[0m\u001b[0;34m\u001b[0m\u001b[0;34m\u001b[0m\u001b[0m\n\u001b[0m",
      "\u001b[0;31mNameError\u001b[0m: name 'corpus' is not defined"
     ]
    }
   ],
   "source": [
    "# put the corpus in a dataframe\n",
    "df_corpus = pd.DataFrame(corpus, columns=['reviews'])"
   ]
  },
  {
   "cell_type": "code",
   "execution_count": 28,
   "metadata": {},
   "outputs": [],
   "source": [
    "# merge corpus into original dataframe so we can begin modeling\n",
    "df_reviews_final = pd.concat([df_text,df_corpus],axis=1)"
   ]
  },
  {
   "cell_type": "code",
   "execution_count": 34,
   "metadata": {},
   "outputs": [],
   "source": [
    "# save final dataframe to csv\n",
    "df_reviews_final.to_csv('final_df.csv',index=None,header=True)"
   ]
  },
  {
   "cell_type": "markdown",
   "metadata": {},
   "source": [
    "## Feature engineering"
   ]
  },
  {
   "cell_type": "code",
   "execution_count": null,
   "metadata": {},
   "outputs": [],
   "source": [
    "# lenght of review\n",
    "# number of !'s\n",
    "# number of "
   ]
  },
  {
   "cell_type": "code",
   "execution_count": null,
   "metadata": {},
   "outputs": [],
   "source": []
  },
  {
   "cell_type": "code",
   "execution_count": 16,
   "metadata": {},
   "outputs": [
    {
     "name": "stderr",
     "output_type": "stream",
     "text": [
      "/Users/Kristinabarounis/anaconda3/lib/python3.7/site-packages/ipykernel_launcher.py:1: SettingWithCopyWarning: \n",
      "A value is trying to be set on a copy of a slice from a DataFrame.\n",
      "Try using .loc[row_indexer,col_indexer] = value instead\n",
      "\n",
      "See the caveats in the documentation: http://pandas.pydata.org/pandas-docs/stable/indexing.html#indexing-view-versus-copy\n",
      "  \"\"\"Entry point for launching an IPython kernel.\n"
     ]
    }
   ],
   "source": [
    "df_text['review_length'] = df_text['reviewText'].apply(len)"
   ]
  },
  {
   "cell_type": "markdown",
   "metadata": {},
   "source": [
    "## Visuals"
   ]
  },
  {
   "cell_type": "code",
   "execution_count": null,
   "metadata": {},
   "outputs": [],
   "source": [
    "g = sns.FacetGrid(data=df_text, col='overall')\n",
    "g.map(plt.hist, 'review_length', bins=30)\n",
    "g.set(xlim=(0,10000))"
   ]
  },
  {
   "cell_type": "code",
   "execution_count": null,
   "metadata": {},
   "outputs": [],
   "source": [
    "sns.boxplot(x='overall', y='review_length', data=df_text)"
   ]
  }
 ],
 "metadata": {
  "kernelspec": {
   "display_name": "Python 3",
   "language": "python",
   "name": "python3"
  },
  "language_info": {
   "codemirror_mode": {
    "name": "ipython",
    "version": 3
   },
   "file_extension": ".py",
   "mimetype": "text/x-python",
   "name": "python",
   "nbconvert_exporter": "python",
   "pygments_lexer": "ipython3",
   "version": "3.7.3"
  }
 },
 "nbformat": 4,
 "nbformat_minor": 2
}
